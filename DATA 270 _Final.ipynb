{
 "cells": [
  {
   "cell_type": "code",
   "execution_count": null,
   "id": "d4ef3bf6",
   "metadata": {},
   "outputs": [],
   "source": []
  },
  {
   "cell_type": "code",
   "execution_count": 3,
   "id": "e32046ca",
   "metadata": {},
   "outputs": [],
   "source": [
    "import pandas as pd\n",
    "import numpy as np\n",
    "\n",
    "import seaborn as sns\n",
    "import matplotlib.pyplot as plt\n",
    "from sklearn import preprocessing\n",
    "\n",
    "import nltk\n",
    "from nltk.corpus import stopwords\n",
    "from nltk.corpus import wordnet\n",
    "from nltk.tokenize import word_tokenize\n",
    "from nltk.stem.wordnet import WordNetLemmatizer\n",
    "from nltk.stem.porter import PorterStemmer\n",
    "from nltk.stem.snowball import SnowballStemmer\n",
    "\n",
    "from sklearn.preprocessing import LabelEncoder\n",
    "\n",
    "from sklearn.decomposition import PCA\n",
    "from sklearn.decomposition import TruncatedSVD\n",
    "from sklearn.feature_extraction.text import TfidfVectorizer\n",
    "from sklearn.feature_extraction.text import CountVectorizer\n",
    "from sklearn.feature_extraction.text import HashingVectorizer\n",
    "from sklearn.feature_extraction.text import TfidfTransformer\n",
    "from sklearn.pipeline import Pipeline\n",
    "from sklearn.manifold import TSNE\n",
    "from gensim.models import Word2Vec\n",
    "\n",
    "from datetime import datetime\n",
    "\n",
    "#import contractions\n",
    "#import langdetect\n",
    "#from langdetect import detect\n",
    "#import emot\n",
    "#from emot.emo_unicode import EMOTICONS_EMO, UNICODE_EMOJI\n",
    "\n",
    "import re\n",
    "import pickle\n",
    "import string\n",
    "import os\n",
    "\n",
    "#Modelling\n",
    "from sklearn.model_selection import train_test_split\n",
    "from scipy.stats import randint\n",
    "from sklearn.naive_bayes import MultinomialNB\n",
    "from sklearn.linear_model import LogisticRegression\n",
    "from sklearn.ensemble import RandomForestClassifier\n",
    "from sklearn.svm import LinearSVC\n",
    "from sklearn.model_selection import cross_val_score\n",
    "from sklearn.metrics import confusion_matrix\n",
    "from sklearn import metrics\n",
    "#os.chdir('/Users/michelleyuu/Desktop/data270/data')"
   ]
  },
  {
   "cell_type": "code",
   "execution_count": 4,
   "id": "547602cb",
   "metadata": {},
   "outputs": [
    {
     "data": {
      "text/html": [
       "<div>\n",
       "<style scoped>\n",
       "    .dataframe tbody tr th:only-of-type {\n",
       "        vertical-align: middle;\n",
       "    }\n",
       "\n",
       "    .dataframe tbody tr th {\n",
       "        vertical-align: top;\n",
       "    }\n",
       "\n",
       "    .dataframe thead th {\n",
       "        text-align: right;\n",
       "    }\n",
       "</style>\n",
       "<table border=\"1\" class=\"dataframe\">\n",
       "  <thead>\n",
       "    <tr style=\"text-align: right;\">\n",
       "      <th></th>\n",
       "      <th>Sexual</th>\n",
       "      <th>Racial</th>\n",
       "      <th>Appearance</th>\n",
       "      <th>Intelligence</th>\n",
       "      <th>Politics</th>\n",
       "      <th>Generic</th>\n",
       "    </tr>\n",
       "  </thead>\n",
       "  <tbody>\n",
       "    <tr>\n",
       "      <th>0</th>\n",
       "      <td>amateur</td>\n",
       "      <td>abbo</td>\n",
       "      <td>alla</td>\n",
       "      <td>cockbite</td>\n",
       "      <td>anal</td>\n",
       "      <td>assbite</td>\n",
       "    </tr>\n",
       "    <tr>\n",
       "      <th>1</th>\n",
       "      <td>AnalAnnie</td>\n",
       "      <td>abo</td>\n",
       "      <td>big ass</td>\n",
       "      <td>Cockmuncher</td>\n",
       "      <td>anus</td>\n",
       "      <td>asscock</td>\n",
       "    </tr>\n",
       "    <tr>\n",
       "      <th>2</th>\n",
       "      <td>Angie</td>\n",
       "      <td>African Forklift</td>\n",
       "      <td>camel toe</td>\n",
       "      <td>demon</td>\n",
       "      <td>arse</td>\n",
       "      <td>asses</td>\n",
       "    </tr>\n",
       "    <tr>\n",
       "      <th>3</th>\n",
       "      <td>Aroused</td>\n",
       "      <td>Alligator Bait</td>\n",
       "      <td>Chesticles</td>\n",
       "      <td>demonrats</td>\n",
       "      <td>asian</td>\n",
       "      <td>assface</td>\n",
       "    </tr>\n",
       "    <tr>\n",
       "      <th>4</th>\n",
       "      <td>assblaster</td>\n",
       "      <td>arab</td>\n",
       "      <td>cock waffle</td>\n",
       "      <td>dickwad</td>\n",
       "      <td>ass-hat</td>\n",
       "      <td>asshat</td>\n",
       "    </tr>\n",
       "    <tr>\n",
       "      <th>...</th>\n",
       "      <td>...</td>\n",
       "      <td>...</td>\n",
       "      <td>...</td>\n",
       "      <td>...</td>\n",
       "      <td>...</td>\n",
       "      <td>...</td>\n",
       "    </tr>\n",
       "    <tr>\n",
       "      <th>447</th>\n",
       "      <td>wankjob</td>\n",
       "      <td>NaN</td>\n",
       "      <td>NaN</td>\n",
       "      <td>NaN</td>\n",
       "      <td>NaN</td>\n",
       "      <td>NaN</td>\n",
       "    </tr>\n",
       "    <tr>\n",
       "      <th>448</th>\n",
       "      <td>wetspot</td>\n",
       "      <td>NaN</td>\n",
       "      <td>NaN</td>\n",
       "      <td>NaN</td>\n",
       "      <td>NaN</td>\n",
       "      <td>NaN</td>\n",
       "    </tr>\n",
       "    <tr>\n",
       "      <th>449</th>\n",
       "      <td>whore</td>\n",
       "      <td>NaN</td>\n",
       "      <td>NaN</td>\n",
       "      <td>NaN</td>\n",
       "      <td>NaN</td>\n",
       "      <td>NaN</td>\n",
       "    </tr>\n",
       "    <tr>\n",
       "      <th>450</th>\n",
       "      <td>whorefucker</td>\n",
       "      <td>NaN</td>\n",
       "      <td>NaN</td>\n",
       "      <td>NaN</td>\n",
       "      <td>NaN</td>\n",
       "      <td>NaN</td>\n",
       "    </tr>\n",
       "    <tr>\n",
       "      <th>451</th>\n",
       "      <td>williewanker</td>\n",
       "      <td>NaN</td>\n",
       "      <td>NaN</td>\n",
       "      <td>NaN</td>\n",
       "      <td>NaN</td>\n",
       "      <td>NaN</td>\n",
       "    </tr>\n",
       "  </tbody>\n",
       "</table>\n",
       "<p>452 rows × 6 columns</p>\n",
       "</div>"
      ],
      "text/plain": [
       "           Sexual            Racial   Appearance Intelligence Politics  \\\n",
       "0         amateur              abbo         alla     cockbite     anal   \n",
       "1       AnalAnnie               abo      big ass  Cockmuncher     anus   \n",
       "2           Angie  African Forklift    camel toe        demon     arse   \n",
       "3         Aroused    Alligator Bait   Chesticles    demonrats    asian   \n",
       "4      assblaster              arab  cock waffle      dickwad  ass-hat   \n",
       "..            ...               ...          ...          ...      ...   \n",
       "447       wankjob               NaN          NaN          NaN      NaN   \n",
       "448       wetspot               NaN          NaN          NaN      NaN   \n",
       "449         whore               NaN          NaN          NaN      NaN   \n",
       "450   whorefucker               NaN          NaN          NaN      NaN   \n",
       "451  williewanker               NaN          NaN          NaN      NaN   \n",
       "\n",
       "     Generic  \n",
       "0    assbite  \n",
       "1    asscock  \n",
       "2      asses  \n",
       "3    assface  \n",
       "4     asshat  \n",
       "..       ...  \n",
       "447      NaN  \n",
       "448      NaN  \n",
       "449      NaN  \n",
       "450      NaN  \n",
       "451      NaN  \n",
       "\n",
       "[452 rows x 6 columns]"
      ]
     },
     "execution_count": 4,
     "metadata": {},
     "output_type": "execute_result"
    }
   ],
   "source": [
    "harassment = pd.read_csv('Harassment Lexicon.csv')\n",
    "harassment"
   ]
  },
  {
   "cell_type": "code",
   "execution_count": 5,
   "id": "59bb08b6",
   "metadata": {},
   "outputs": [],
   "source": [
    "data = pd.read_csv('sentiment140_clean.csv') "
   ]
  },
  {
   "cell_type": "code",
   "execution_count": 6,
   "id": "41b02132",
   "metadata": {},
   "outputs": [
    {
     "data": {
      "text/plain": [
       "(1600000, 16)"
      ]
     },
     "execution_count": 6,
     "metadata": {},
     "output_type": "execute_result"
    }
   ],
   "source": [
    "data.shape"
   ]
  },
  {
   "cell_type": "code",
   "execution_count": 7,
   "id": "ef64ae2f",
   "metadata": {},
   "outputs": [
    {
     "data": {
      "text/html": [
       "<div>\n",
       "<style scoped>\n",
       "    .dataframe tbody tr th:only-of-type {\n",
       "        vertical-align: middle;\n",
       "    }\n",
       "\n",
       "    .dataframe tbody tr th {\n",
       "        vertical-align: top;\n",
       "    }\n",
       "\n",
       "    .dataframe thead th {\n",
       "        text-align: right;\n",
       "    }\n",
       "</style>\n",
       "<table border=\"1\" class=\"dataframe\">\n",
       "  <thead>\n",
       "    <tr style=\"text-align: right;\">\n",
       "      <th></th>\n",
       "      <th>sentiment</th>\n",
       "      <th>id</th>\n",
       "      <th>date</th>\n",
       "      <th>user</th>\n",
       "      <th>text</th>\n",
       "      <th>text_lower</th>\n",
       "      <th>text_no_stop</th>\n",
       "      <th>tokenized_words</th>\n",
       "      <th>sexual</th>\n",
       "      <th>racial</th>\n",
       "      <th>appearance</th>\n",
       "      <th>intelligence</th>\n",
       "      <th>politics</th>\n",
       "      <th>generic</th>\n",
       "      <th>label</th>\n",
       "      <th>encoded_label</th>\n",
       "    </tr>\n",
       "  </thead>\n",
       "  <tbody>\n",
       "    <tr>\n",
       "      <th>83</th>\n",
       "      <td>0</td>\n",
       "      <td>1467834265</td>\n",
       "      <td>Mon Apr 06 22:25:54 PDT 2009</td>\n",
       "      <td>mike_webster_au</td>\n",
       "      <td>@markhardy1974 Me too  #itm</td>\n",
       "      <td>@markhardy1974 me too  #itm</td>\n",
       "      <td></td>\n",
       "      <td>NaN</td>\n",
       "      <td>0</td>\n",
       "      <td>0</td>\n",
       "      <td>0</td>\n",
       "      <td>0</td>\n",
       "      <td>0</td>\n",
       "      <td>0</td>\n",
       "      <td>Noncyberbullying</td>\n",
       "      <td>0</td>\n",
       "    </tr>\n",
       "    <tr>\n",
       "      <th>135</th>\n",
       "      <td>0</td>\n",
       "      <td>1467842448</td>\n",
       "      <td>Mon Apr 06 22:28:05 PDT 2009</td>\n",
       "      <td>R_Boucher</td>\n",
       "      <td>Agh...snow!!!</td>\n",
       "      <td>agh...snow!!!</td>\n",
       "      <td>NaN</td>\n",
       "      <td>NaN</td>\n",
       "      <td>0</td>\n",
       "      <td>0</td>\n",
       "      <td>0</td>\n",
       "      <td>0</td>\n",
       "      <td>0</td>\n",
       "      <td>0</td>\n",
       "      <td>Noncyberbullying</td>\n",
       "      <td>0</td>\n",
       "    </tr>\n",
       "    <tr>\n",
       "      <th>151</th>\n",
       "      <td>0</td>\n",
       "      <td>1467844505</td>\n",
       "      <td>Mon Apr 06 22:28:38 PDT 2009</td>\n",
       "      <td>luimoral85</td>\n",
       "      <td>I don't understand... I really don't</td>\n",
       "      <td>i don't understand... i really don't</td>\n",
       "      <td>NaN</td>\n",
       "      <td>NaN</td>\n",
       "      <td>0</td>\n",
       "      <td>0</td>\n",
       "      <td>0</td>\n",
       "      <td>0</td>\n",
       "      <td>0</td>\n",
       "      <td>0</td>\n",
       "      <td>Noncyberbullying</td>\n",
       "      <td>0</td>\n",
       "    </tr>\n",
       "    <tr>\n",
       "      <th>191</th>\n",
       "      <td>0</td>\n",
       "      <td>1467859666</td>\n",
       "      <td>Mon Apr 06 22:32:31 PDT 2009</td>\n",
       "      <td>DreamActivist23</td>\n",
       "      <td>@HillyDoP  oH NO</td>\n",
       "      <td>@hillydop  oh no</td>\n",
       "      <td>NaN</td>\n",
       "      <td>NaN</td>\n",
       "      <td>0</td>\n",
       "      <td>0</td>\n",
       "      <td>0</td>\n",
       "      <td>0</td>\n",
       "      <td>0</td>\n",
       "      <td>0</td>\n",
       "      <td>Noncyberbullying</td>\n",
       "      <td>0</td>\n",
       "    </tr>\n",
       "    <tr>\n",
       "      <th>208</th>\n",
       "      <td>0</td>\n",
       "      <td>1467863072</td>\n",
       "      <td>Mon Apr 06 22:33:25 PDT 2009</td>\n",
       "      <td>Artiel87</td>\n",
       "      <td>@mandayyy</td>\n",
       "      <td>@mandayyy</td>\n",
       "      <td>NaN</td>\n",
       "      <td>NaN</td>\n",
       "      <td>0</td>\n",
       "      <td>0</td>\n",
       "      <td>0</td>\n",
       "      <td>0</td>\n",
       "      <td>0</td>\n",
       "      <td>0</td>\n",
       "      <td>Noncyberbullying</td>\n",
       "      <td>0</td>\n",
       "    </tr>\n",
       "    <tr>\n",
       "      <th>...</th>\n",
       "      <td>...</td>\n",
       "      <td>...</td>\n",
       "      <td>...</td>\n",
       "      <td>...</td>\n",
       "      <td>...</td>\n",
       "      <td>...</td>\n",
       "      <td>...</td>\n",
       "      <td>...</td>\n",
       "      <td>...</td>\n",
       "      <td>...</td>\n",
       "      <td>...</td>\n",
       "      <td>...</td>\n",
       "      <td>...</td>\n",
       "      <td>...</td>\n",
       "      <td>...</td>\n",
       "      <td>...</td>\n",
       "    </tr>\n",
       "    <tr>\n",
       "      <th>1599720</th>\n",
       "      <td>4</td>\n",
       "      <td>2193525714</td>\n",
       "      <td>Tue Jun 16 08:34:36 PDT 2009</td>\n",
       "      <td>EmilyatMeritain</td>\n",
       "      <td>@alwaysfurst See you there</td>\n",
       "      <td>@alwaysfurst see you there</td>\n",
       "      <td>NaN</td>\n",
       "      <td>NaN</td>\n",
       "      <td>0</td>\n",
       "      <td>0</td>\n",
       "      <td>0</td>\n",
       "      <td>0</td>\n",
       "      <td>0</td>\n",
       "      <td>0</td>\n",
       "      <td>Noncyberbullying</td>\n",
       "      <td>0</td>\n",
       "    </tr>\n",
       "    <tr>\n",
       "      <th>1599773</th>\n",
       "      <td>4</td>\n",
       "      <td>2193528265</td>\n",
       "      <td>Tue Jun 16 08:34:49 PDT 2009</td>\n",
       "      <td>Runwithsissorz</td>\n",
       "      <td>@ijustine hey</td>\n",
       "      <td>@ijustine hey</td>\n",
       "      <td>NaN</td>\n",
       "      <td>NaN</td>\n",
       "      <td>0</td>\n",
       "      <td>0</td>\n",
       "      <td>0</td>\n",
       "      <td>0</td>\n",
       "      <td>0</td>\n",
       "      <td>0</td>\n",
       "      <td>Noncyberbullying</td>\n",
       "      <td>0</td>\n",
       "    </tr>\n",
       "    <tr>\n",
       "      <th>1599811</th>\n",
       "      <td>4</td>\n",
       "      <td>2193550913</td>\n",
       "      <td>Tue Jun 16 08:36:39 PDT 2009</td>\n",
       "      <td>handriani</td>\n",
       "      <td>to be with you</td>\n",
       "      <td>to be with you</td>\n",
       "      <td>NaN</td>\n",
       "      <td>NaN</td>\n",
       "      <td>0</td>\n",
       "      <td>0</td>\n",
       "      <td>0</td>\n",
       "      <td>0</td>\n",
       "      <td>0</td>\n",
       "      <td>0</td>\n",
       "      <td>Noncyberbullying</td>\n",
       "      <td>0</td>\n",
       "    </tr>\n",
       "    <tr>\n",
       "      <th>1599914</th>\n",
       "      <td>4</td>\n",
       "      <td>2193575571</td>\n",
       "      <td>Tue Jun 16 08:38:41 PDT 2009</td>\n",
       "      <td>BeBo_Evilbunny</td>\n",
       "      <td>@PJA4ever Back..</td>\n",
       "      <td>@pja4ever back..</td>\n",
       "      <td></td>\n",
       "      <td>NaN</td>\n",
       "      <td>0</td>\n",
       "      <td>0</td>\n",
       "      <td>0</td>\n",
       "      <td>0</td>\n",
       "      <td>0</td>\n",
       "      <td>0</td>\n",
       "      <td>Noncyberbullying</td>\n",
       "      <td>0</td>\n",
       "    </tr>\n",
       "    <tr>\n",
       "      <th>1599993</th>\n",
       "      <td>4</td>\n",
       "      <td>2193579477</td>\n",
       "      <td>Tue Jun 16 08:39:00 PDT 2009</td>\n",
       "      <td>ChloeAmisha</td>\n",
       "      <td>@SCOOBY_GRITBOYS</td>\n",
       "      <td>@scooby_gritboys</td>\n",
       "      <td>NaN</td>\n",
       "      <td>NaN</td>\n",
       "      <td>0</td>\n",
       "      <td>0</td>\n",
       "      <td>0</td>\n",
       "      <td>0</td>\n",
       "      <td>0</td>\n",
       "      <td>0</td>\n",
       "      <td>Noncyberbullying</td>\n",
       "      <td>0</td>\n",
       "    </tr>\n",
       "  </tbody>\n",
       "</table>\n",
       "<p>13427 rows × 16 columns</p>\n",
       "</div>"
      ],
      "text/plain": [
       "         sentiment          id                          date             user  \\\n",
       "83               0  1467834265  Mon Apr 06 22:25:54 PDT 2009  mike_webster_au   \n",
       "135              0  1467842448  Mon Apr 06 22:28:05 PDT 2009        R_Boucher   \n",
       "151              0  1467844505  Mon Apr 06 22:28:38 PDT 2009       luimoral85   \n",
       "191              0  1467859666  Mon Apr 06 22:32:31 PDT 2009  DreamActivist23   \n",
       "208              0  1467863072  Mon Apr 06 22:33:25 PDT 2009         Artiel87   \n",
       "...            ...         ...                           ...              ...   \n",
       "1599720          4  2193525714  Tue Jun 16 08:34:36 PDT 2009  EmilyatMeritain   \n",
       "1599773          4  2193528265  Tue Jun 16 08:34:49 PDT 2009   Runwithsissorz   \n",
       "1599811          4  2193550913  Tue Jun 16 08:36:39 PDT 2009        handriani   \n",
       "1599914          4  2193575571  Tue Jun 16 08:38:41 PDT 2009   BeBo_Evilbunny   \n",
       "1599993          4  2193579477  Tue Jun 16 08:39:00 PDT 2009      ChloeAmisha   \n",
       "\n",
       "                                          text  \\\n",
       "83                 @markhardy1974 Me too  #itm   \n",
       "135                             Agh...snow!!!    \n",
       "151      I don't understand... I really don't    \n",
       "191                           @HillyDoP  oH NO   \n",
       "208                                 @mandayyy    \n",
       "...                                        ...   \n",
       "1599720            @alwaysfurst See you there    \n",
       "1599773                         @ijustine hey    \n",
       "1599811                        to be with you    \n",
       "1599914                      @PJA4ever Back..    \n",
       "1599993                      @SCOOBY_GRITBOYS    \n",
       "\n",
       "                                    text_lower text_no_stop tokenized_words  \\\n",
       "83                 @markhardy1974 me too  #itm                          NaN   \n",
       "135                             agh...snow!!!           NaN             NaN   \n",
       "151      i don't understand... i really don't           NaN             NaN   \n",
       "191                           @hillydop  oh no          NaN             NaN   \n",
       "208                                 @mandayyy           NaN             NaN   \n",
       "...                                        ...          ...             ...   \n",
       "1599720            @alwaysfurst see you there           NaN             NaN   \n",
       "1599773                         @ijustine hey           NaN             NaN   \n",
       "1599811                        to be with you           NaN             NaN   \n",
       "1599914                      @pja4ever back..                           NaN   \n",
       "1599993                      @scooby_gritboys           NaN             NaN   \n",
       "\n",
       "         sexual  racial  appearance  intelligence  politics  generic  \\\n",
       "83            0       0           0             0         0        0   \n",
       "135           0       0           0             0         0        0   \n",
       "151           0       0           0             0         0        0   \n",
       "191           0       0           0             0         0        0   \n",
       "208           0       0           0             0         0        0   \n",
       "...         ...     ...         ...           ...       ...      ...   \n",
       "1599720       0       0           0             0         0        0   \n",
       "1599773       0       0           0             0         0        0   \n",
       "1599811       0       0           0             0         0        0   \n",
       "1599914       0       0           0             0         0        0   \n",
       "1599993       0       0           0             0         0        0   \n",
       "\n",
       "                    label  encoded_label  \n",
       "83       Noncyberbullying              0  \n",
       "135      Noncyberbullying              0  \n",
       "151      Noncyberbullying              0  \n",
       "191      Noncyberbullying              0  \n",
       "208      Noncyberbullying              0  \n",
       "...                   ...            ...  \n",
       "1599720  Noncyberbullying              0  \n",
       "1599773  Noncyberbullying              0  \n",
       "1599811  Noncyberbullying              0  \n",
       "1599914  Noncyberbullying              0  \n",
       "1599993  Noncyberbullying              0  \n",
       "\n",
       "[13427 rows x 16 columns]"
      ]
     },
     "execution_count": 7,
     "metadata": {},
     "output_type": "execute_result"
    }
   ],
   "source": [
    "data[data['tokenized_words'].isna()]"
   ]
  },
  {
   "cell_type": "code",
   "execution_count": 8,
   "id": "edb6151f",
   "metadata": {
    "scrolled": true
   },
   "outputs": [],
   "source": [
    "data = data.dropna()"
   ]
  },
  {
   "cell_type": "code",
   "execution_count": 9,
   "id": "0faae13c",
   "metadata": {},
   "outputs": [
    {
     "data": {
      "text/html": [
       "<div>\n",
       "<style scoped>\n",
       "    .dataframe tbody tr th:only-of-type {\n",
       "        vertical-align: middle;\n",
       "    }\n",
       "\n",
       "    .dataframe tbody tr th {\n",
       "        vertical-align: top;\n",
       "    }\n",
       "\n",
       "    .dataframe thead th {\n",
       "        text-align: right;\n",
       "    }\n",
       "</style>\n",
       "<table border=\"1\" class=\"dataframe\">\n",
       "  <thead>\n",
       "    <tr style=\"text-align: right;\">\n",
       "      <th></th>\n",
       "      <th>sentiment</th>\n",
       "      <th>id</th>\n",
       "      <th>date</th>\n",
       "      <th>user</th>\n",
       "      <th>text</th>\n",
       "      <th>text_lower</th>\n",
       "      <th>text_no_stop</th>\n",
       "      <th>tokenized_words</th>\n",
       "      <th>sexual</th>\n",
       "      <th>racial</th>\n",
       "      <th>appearance</th>\n",
       "      <th>intelligence</th>\n",
       "      <th>politics</th>\n",
       "      <th>generic</th>\n",
       "      <th>label</th>\n",
       "      <th>encoded_label</th>\n",
       "    </tr>\n",
       "  </thead>\n",
       "  <tbody>\n",
       "  </tbody>\n",
       "</table>\n",
       "</div>"
      ],
      "text/plain": [
       "Empty DataFrame\n",
       "Columns: [sentiment, id, date, user, text, text_lower, text_no_stop, tokenized_words, sexual, racial, appearance, intelligence, politics, generic, label, encoded_label]\n",
       "Index: []"
      ]
     },
     "execution_count": 9,
     "metadata": {},
     "output_type": "execute_result"
    }
   ],
   "source": [
    "data[data['tokenized_words'].isna()]"
   ]
  },
  {
   "cell_type": "code",
   "execution_count": 10,
   "id": "90f56531",
   "metadata": {},
   "outputs": [
    {
     "data": {
      "text/plain": [
       "(1586573, 5)"
      ]
     },
     "execution_count": 10,
     "metadata": {},
     "output_type": "execute_result"
    }
   ],
   "source": [
    "# data_sample =  data[data['text'].str.contains('whore')].reset_index(drop=True)\n",
    "df = data[['id', 'sentiment', 'tokenized_words','label', 'encoded_label']]\n",
    "\n",
    "\n",
    "df.shape"
   ]
  },
  {
   "cell_type": "code",
   "execution_count": 11,
   "id": "a7f16458",
   "metadata": {},
   "outputs": [
    {
     "data": {
      "text/html": [
       "<div>\n",
       "<style scoped>\n",
       "    .dataframe tbody tr th:only-of-type {\n",
       "        vertical-align: middle;\n",
       "    }\n",
       "\n",
       "    .dataframe tbody tr th {\n",
       "        vertical-align: top;\n",
       "    }\n",
       "\n",
       "    .dataframe thead th {\n",
       "        text-align: right;\n",
       "    }\n",
       "</style>\n",
       "<table border=\"1\" class=\"dataframe\">\n",
       "  <thead>\n",
       "    <tr style=\"text-align: right;\">\n",
       "      <th></th>\n",
       "      <th>id</th>\n",
       "      <th>sentiment</th>\n",
       "      <th>tokenized_words</th>\n",
       "      <th>label</th>\n",
       "      <th>encoded_label</th>\n",
       "    </tr>\n",
       "  </thead>\n",
       "  <tbody>\n",
       "    <tr>\n",
       "      <th>0</th>\n",
       "      <td>1467810369</td>\n",
       "      <td>0</td>\n",
       "      <td>awww bummer david carr third day it d</td>\n",
       "      <td>Noncyberbullying</td>\n",
       "      <td>0</td>\n",
       "    </tr>\n",
       "    <tr>\n",
       "      <th>1</th>\n",
       "      <td>1467810672</td>\n",
       "      <td>0</td>\n",
       "      <td>upset update facebook texting might cry result...</td>\n",
       "      <td>Noncyberbullying</td>\n",
       "      <td>0</td>\n",
       "    </tr>\n",
       "    <tr>\n",
       "      <th>2</th>\n",
       "      <td>1467810917</td>\n",
       "      <td>0</td>\n",
       "      <td>dive many time ball manage save 50 rest bound</td>\n",
       "      <td>Noncyberbullying</td>\n",
       "      <td>0</td>\n",
       "    </tr>\n",
       "    <tr>\n",
       "      <th>3</th>\n",
       "      <td>1467811184</td>\n",
       "      <td>0</td>\n",
       "      <td>whole body feel itchy like fire</td>\n",
       "      <td>Noncyberbullying</td>\n",
       "      <td>0</td>\n",
       "    </tr>\n",
       "    <tr>\n",
       "      <th>4</th>\n",
       "      <td>1467811193</td>\n",
       "      <td>0</td>\n",
       "      <td>no behave all mad here there</td>\n",
       "      <td>Noncyberbullying</td>\n",
       "      <td>0</td>\n",
       "    </tr>\n",
       "    <tr>\n",
       "      <th>...</th>\n",
       "      <td>...</td>\n",
       "      <td>...</td>\n",
       "      <td>...</td>\n",
       "      <td>...</td>\n",
       "      <td>...</td>\n",
       "    </tr>\n",
       "    <tr>\n",
       "      <th>1599995</th>\n",
       "      <td>2193601966</td>\n",
       "      <td>4</td>\n",
       "      <td>wake up school best feel</td>\n",
       "      <td>Noncyberbullying</td>\n",
       "      <td>0</td>\n",
       "    </tr>\n",
       "    <tr>\n",
       "      <th>1599996</th>\n",
       "      <td>2193601969</td>\n",
       "      <td>4</td>\n",
       "      <td>cool hear old walt interview</td>\n",
       "      <td>Noncyberbullying</td>\n",
       "      <td>0</td>\n",
       "    </tr>\n",
       "    <tr>\n",
       "      <th>1599997</th>\n",
       "      <td>2193601991</td>\n",
       "      <td>4</td>\n",
       "      <td>ready mojo makeover ask detail</td>\n",
       "      <td>Noncyberbullying</td>\n",
       "      <td>0</td>\n",
       "    </tr>\n",
       "    <tr>\n",
       "      <th>1599998</th>\n",
       "      <td>2193602064</td>\n",
       "      <td>4</td>\n",
       "      <td>happy 38th birthday boo alll time tupac amaru ...</td>\n",
       "      <td>Noncyberbullying</td>\n",
       "      <td>0</td>\n",
       "    </tr>\n",
       "    <tr>\n",
       "      <th>1599999</th>\n",
       "      <td>2193602129</td>\n",
       "      <td>4</td>\n",
       "      <td>happy</td>\n",
       "      <td>Noncyberbullying</td>\n",
       "      <td>0</td>\n",
       "    </tr>\n",
       "  </tbody>\n",
       "</table>\n",
       "<p>1586573 rows × 5 columns</p>\n",
       "</div>"
      ],
      "text/plain": [
       "                 id  sentiment  \\\n",
       "0        1467810369          0   \n",
       "1        1467810672          0   \n",
       "2        1467810917          0   \n",
       "3        1467811184          0   \n",
       "4        1467811193          0   \n",
       "...             ...        ...   \n",
       "1599995  2193601966          4   \n",
       "1599996  2193601969          4   \n",
       "1599997  2193601991          4   \n",
       "1599998  2193602064          4   \n",
       "1599999  2193602129          4   \n",
       "\n",
       "                                           tokenized_words             label  \\\n",
       "0                    awww bummer david carr third day it d  Noncyberbullying   \n",
       "1        upset update facebook texting might cry result...  Noncyberbullying   \n",
       "2            dive many time ball manage save 50 rest bound  Noncyberbullying   \n",
       "3                          whole body feel itchy like fire  Noncyberbullying   \n",
       "4                             no behave all mad here there  Noncyberbullying   \n",
       "...                                                    ...               ...   \n",
       "1599995                           wake up school best feel  Noncyberbullying   \n",
       "1599996                       cool hear old walt interview  Noncyberbullying   \n",
       "1599997                     ready mojo makeover ask detail  Noncyberbullying   \n",
       "1599998  happy 38th birthday boo alll time tupac amaru ...  Noncyberbullying   \n",
       "1599999                                              happy  Noncyberbullying   \n",
       "\n",
       "         encoded_label  \n",
       "0                    0  \n",
       "1                    0  \n",
       "2                    0  \n",
       "3                    0  \n",
       "4                    0  \n",
       "...                ...  \n",
       "1599995              0  \n",
       "1599996              0  \n",
       "1599997              0  \n",
       "1599998              0  \n",
       "1599999              0  \n",
       "\n",
       "[1586573 rows x 5 columns]"
      ]
     },
     "execution_count": 11,
     "metadata": {},
     "output_type": "execute_result"
    }
   ],
   "source": [
    "df"
   ]
  },
  {
   "cell_type": "code",
   "execution_count": 12,
   "id": "1becaf5e",
   "metadata": {},
   "outputs": [
    {
     "data": {
      "text/plain": [
       "Noncyberbullying    1302381\n",
       "sexual               144959\n",
       "racial                74636\n",
       "generic               33135\n",
       "politics              22650\n",
       "intelligence           7354\n",
       "appearance             1458\n",
       "Name: label, dtype: int64"
      ]
     },
     "execution_count": 12,
     "metadata": {},
     "output_type": "execute_result"
    }
   ],
   "source": [
    "df['label'].value_counts()"
   ]
  },
  {
   "cell_type": "code",
   "execution_count": 13,
   "id": "c5fdec9f",
   "metadata": {},
   "outputs": [
    {
     "name": "stderr",
     "output_type": "stream",
     "text": [
      "/Users/maggie/opt/anaconda3/lib/python3.9/site-packages/pandas/core/frame.py:4906: SettingWithCopyWarning: \n",
      "A value is trying to be set on a copy of a slice from a DataFrame\n",
      "\n",
      "See the caveats in the documentation: https://pandas.pydata.org/pandas-docs/stable/user_guide/indexing.html#returning-a-view-versus-a-copy\n",
      "  return super().drop(\n"
     ]
    },
    {
     "data": {
      "text/plain": [
       "Noncyberbullying    1230749\n",
       "sexual               137313\n",
       "racial                70883\n",
       "generic               31314\n",
       "politics              21315\n",
       "intelligence           7040\n",
       "appearance             1386\n",
       "Name: label, dtype: int64"
      ]
     },
     "execution_count": 13,
     "metadata": {},
     "output_type": "execute_result"
    }
   ],
   "source": [
    "df.drop(df.tail(86573).index,\n",
    "        inplace = True)\n",
    "df['label'].value_counts()\n"
   ]
  },
  {
   "cell_type": "code",
   "execution_count": 14,
   "id": "6acb7ff6",
   "metadata": {},
   "outputs": [],
   "source": [
    "# df = df_sample[['id', 'sentiment', 'tokenized_words', 'sexual', 'racial', 'appearance', 'intelligence', 'politics', 'generic']]\n",
    "# df.head()"
   ]
  },
  {
   "cell_type": "code",
   "execution_count": 15,
   "id": "dece61ec",
   "metadata": {},
   "outputs": [
    {
     "data": {
      "text/plain": [
       "0                awww bummer david carr third day it d\n",
       "1    upset update facebook texting might cry result...\n",
       "2        dive many time ball manage save 50 rest bound\n",
       "3                      whole body feel itchy like fire\n",
       "Name: tokenized_words, dtype: object"
      ]
     },
     "execution_count": 15,
     "metadata": {},
     "output_type": "execute_result"
    }
   ],
   "source": [
    "corpus = df['tokenized_words']\n",
    "corpus.head(4)"
   ]
  },
  {
   "cell_type": "code",
   "execution_count": 16,
   "id": "d7916ff6",
   "metadata": {},
   "outputs": [
    {
     "name": "stderr",
     "output_type": "stream",
     "text": [
      "IOPub data rate exceeded.\n",
      "The notebook server will temporarily stop sending output\n",
      "to the client in order to avoid crashing it.\n",
      "To change this limit, set the config variable\n",
      "`--NotebookApp.iopub_data_rate_limit`.\n",
      "\n",
      "Current values:\n",
      "NotebookApp.iopub_data_rate_limit=1000000.0 (bytes/sec)\n",
      "NotebookApp.rate_limit_window=3.0 (secs)\n",
      "\n",
      "/Users/maggie/opt/anaconda3/lib/python3.9/site-packages/sklearn/utils/deprecation.py:87: FutureWarning: Function get_feature_names is deprecated; get_feature_names is deprecated in 1.0 and will be removed in 1.2. Please use get_feature_names_out instead.\n",
      "  warnings.warn(msg, category=FutureWarning)\n"
     ]
    }
   ],
   "source": [
    "#tfidf vectorizer\n",
    "\n",
    "vectorizer = TfidfVectorizer(norm='l2', binary=True, dtype=np.float32)\n",
    "reg_vec = vectorizer.fit_transform(df['tokenized_words'].values.astype('U'))\n",
    "print(vectorizer.get_feature_names())"
   ]
  },
  {
   "cell_type": "code",
   "execution_count": 17,
   "id": "8afb37ca",
   "metadata": {},
   "outputs": [
    {
     "data": {
      "text/plain": [
       "<1500000x310467 sparse matrix of type '<class 'numpy.float32'>'\n",
       "\twith 9165634 stored elements in Compressed Sparse Row format>"
      ]
     },
     "execution_count": 17,
     "metadata": {},
     "output_type": "execute_result"
    }
   ],
   "source": [
    "#Descriptive feature data\n",
    "reg_vec"
   ]
  },
  {
   "cell_type": "code",
   "execution_count": 29,
   "id": "75a0938c",
   "metadata": {},
   "outputs": [],
   "source": [
    "#create a dictionary (k-v pair of each word and value)\n",
    "tsvd = TruncatedSVD(n_components=10, n_iter=10, random_state = 42) \n",
    "tsvd.fit(reg_vec)\n",
    "tsvd_mat = tsvd.transform(reg_vec)"
   ]
  },
  {
   "cell_type": "code",
   "execution_count": 30,
   "id": "5de1f7c4",
   "metadata": {},
   "outputs": [],
   "source": [
    "tsvd_df = pd.DataFrame(tsvd_mat)\n",
    "tsvd_v = tsvd_df.values\n",
    "\n",
    "min_max_scaler = preprocessing.MinMaxScaler(feature_range = (0,1))\n",
    "tsvd_scale = min_max_scaler.fit_transform(tsvd_v)\n",
    "\n",
    "tsvd_s_df = pd.DataFrame(tsvd_scale)\n",
    "tsvd_s_df['target'] = df['label']\n",
    "tsvd_s_df['target_encoded'] = df['encoded_label']"
   ]
  },
  {
   "cell_type": "code",
   "execution_count": 31,
   "id": "849af64a",
   "metadata": {},
   "outputs": [],
   "source": [
    "\n",
    "# plt.rcParams[\"figure.figsize\"] = [7.50, 3.50]\n",
    "# plt.rcParams[\"figure.autolayout\"] = True\n",
    "\n",
    "\n",
    "# y = np.sort(reg_vec)\n",
    "\n",
    "# plt.title(\"Line graph\")\n",
    "# plt.scatter(reg_vec, y, color=\"red\")\n",
    "\n",
    "# plt.show()"
   ]
  },
  {
   "cell_type": "code",
   "execution_count": null,
   "id": "a4553526",
   "metadata": {},
   "outputs": [],
   "source": []
  },
  {
   "cell_type": "code",
   "execution_count": 32,
   "id": "517c5cac",
   "metadata": {},
   "outputs": [
    {
     "data": {
      "text/html": [
       "<div>\n",
       "<style scoped>\n",
       "    .dataframe tbody tr th:only-of-type {\n",
       "        vertical-align: middle;\n",
       "    }\n",
       "\n",
       "    .dataframe tbody tr th {\n",
       "        vertical-align: top;\n",
       "    }\n",
       "\n",
       "    .dataframe thead th {\n",
       "        text-align: right;\n",
       "    }\n",
       "</style>\n",
       "<table border=\"1\" class=\"dataframe\">\n",
       "  <thead>\n",
       "    <tr style=\"text-align: right;\">\n",
       "      <th></th>\n",
       "      <th>id</th>\n",
       "      <th>sentiment</th>\n",
       "      <th>tokenized_words</th>\n",
       "      <th>label</th>\n",
       "      <th>encoded_label</th>\n",
       "    </tr>\n",
       "  </thead>\n",
       "  <tbody>\n",
       "    <tr>\n",
       "      <th>0</th>\n",
       "      <td>1467810369</td>\n",
       "      <td>0</td>\n",
       "      <td>awww bummer david carr third day it d</td>\n",
       "      <td>Noncyberbullying</td>\n",
       "      <td>0</td>\n",
       "    </tr>\n",
       "    <tr>\n",
       "      <th>1</th>\n",
       "      <td>1467810672</td>\n",
       "      <td>0</td>\n",
       "      <td>upset update facebook texting might cry result...</td>\n",
       "      <td>Noncyberbullying</td>\n",
       "      <td>0</td>\n",
       "    </tr>\n",
       "    <tr>\n",
       "      <th>2</th>\n",
       "      <td>1467810917</td>\n",
       "      <td>0</td>\n",
       "      <td>dive many time ball manage save 50 rest bound</td>\n",
       "      <td>Noncyberbullying</td>\n",
       "      <td>0</td>\n",
       "    </tr>\n",
       "    <tr>\n",
       "      <th>3</th>\n",
       "      <td>1467811184</td>\n",
       "      <td>0</td>\n",
       "      <td>whole body feel itchy like fire</td>\n",
       "      <td>Noncyberbullying</td>\n",
       "      <td>0</td>\n",
       "    </tr>\n",
       "  </tbody>\n",
       "</table>\n",
       "</div>"
      ],
      "text/plain": [
       "           id  sentiment                                    tokenized_words  \\\n",
       "0  1467810369          0              awww bummer david carr third day it d   \n",
       "1  1467810672          0  upset update facebook texting might cry result...   \n",
       "2  1467810917          0      dive many time ball manage save 50 rest bound   \n",
       "3  1467811184          0                    whole body feel itchy like fire   \n",
       "\n",
       "              label  encoded_label  \n",
       "0  Noncyberbullying              0  \n",
       "1  Noncyberbullying              0  \n",
       "2  Noncyberbullying              0  \n",
       "3  Noncyberbullying              0  "
      ]
     },
     "execution_count": 32,
     "metadata": {},
     "output_type": "execute_result"
    }
   ],
   "source": [
    "#Labels\n",
    "df.head(4)"
   ]
  },
  {
   "cell_type": "code",
   "execution_count": 33,
   "id": "a93519ad",
   "metadata": {},
   "outputs": [
    {
     "data": {
      "text/plain": [
       "0    0\n",
       "1    0\n",
       "2    0\n",
       "Name: encoded_label, dtype: int64"
      ]
     },
     "execution_count": 33,
     "metadata": {},
     "output_type": "execute_result"
    }
   ],
   "source": [
    "label = df['encoded_label']\n",
    "label.head(3)"
   ]
  },
  {
   "cell_type": "code",
   "execution_count": 34,
   "id": "cb2483a5",
   "metadata": {},
   "outputs": [],
   "source": [
    "# features = tfidf.fit_transform(df2.Consumer_complaint).toarray()\n",
    "# labels = df2.category_id\n",
    "\n",
    "X = df['tokenized_words'] # Collection of documents\n",
    "y = df['label'] # Target or the labels we \n",
    "\n",
    "\n",
    "X = tsvd_s_df.drop(['target', 'target_encoded'], axis = 1)\n",
    "y = tsvd_s_df.target_encoded\n",
    "\n",
    "#x = df['tokenized_words']"
   ]
  },
  {
   "cell_type": "code",
   "execution_count": 35,
   "id": "a4c7f183",
   "metadata": {},
   "outputs": [],
   "source": [
    "X_train, X_test, y_train, y_test = train_test_split(X, y, test_size=0.50, random_state = 42)"
   ]
  },
  {
   "cell_type": "code",
   "execution_count": 36,
   "id": "a1bf1a83",
   "metadata": {},
   "outputs": [
    {
     "data": {
      "text/plain": [
       "(750000, 10)"
      ]
     },
     "execution_count": 36,
     "metadata": {},
     "output_type": "execute_result"
    }
   ],
   "source": [
    "X_train.shape"
   ]
  },
  {
   "cell_type": "code",
   "execution_count": 37,
   "id": "c6b35ae7",
   "metadata": {},
   "outputs": [
    {
     "name": "stdout",
     "output_type": "stream",
     "text": [
      "(1500000,)\n",
      "(750000, 10)\n",
      "(750000, 10)\n"
     ]
    }
   ],
   "source": [
    "#checking train-test split\n",
    "\n",
    "print(df['tokenized_words'].shape)\n",
    "print(X_train.shape)\n",
    "print(X_test.shape)"
   ]
  },
  {
   "cell_type": "code",
   "execution_count": null,
   "id": "91c3a8e1",
   "metadata": {},
   "outputs": [],
   "source": []
  },
  {
   "cell_type": "markdown",
   "id": "140d4eed",
   "metadata": {},
   "source": [
    "# Modelling"
   ]
  },
  {
   "cell_type": "code",
   "execution_count": 38,
   "id": "52c07d77",
   "metadata": {},
   "outputs": [],
   "source": [
    "X_train, X_test, y_train, y_test,indices_train,indices_test = train_test_split(reg_vec, label, df.index, test_size=0.7, random_state=1)"
   ]
  },
  {
   "cell_type": "code",
   "execution_count": 39,
   "id": "41657348",
   "metadata": {},
   "outputs": [
    {
     "data": {
      "text/plain": [
       "(450000, 310467)"
      ]
     },
     "execution_count": 39,
     "metadata": {},
     "output_type": "execute_result"
    }
   ],
   "source": [
    "X_train.shape"
   ]
  },
  {
   "cell_type": "code",
   "execution_count": null,
   "id": "29169c0a",
   "metadata": {},
   "outputs": [],
   "source": []
  },
  {
   "cell_type": "code",
   "execution_count": null,
   "id": "188996fe",
   "metadata": {},
   "outputs": [],
   "source": []
  },
  {
   "cell_type": "markdown",
   "id": "6ec9db2a",
   "metadata": {},
   "source": [
    "### Logistic Regression"
   ]
  },
  {
   "cell_type": "code",
   "execution_count": 31,
   "id": "cbb684af",
   "metadata": {},
   "outputs": [
    {
     "name": "stderr",
     "output_type": "stream",
     "text": [
      "/Users/maggie/opt/anaconda3/lib/python3.9/site-packages/sklearn/linear_model/_logistic.py:814: ConvergenceWarning: lbfgs failed to converge (status=1):\n",
      "STOP: TOTAL NO. of ITERATIONS REACHED LIMIT.\n",
      "\n",
      "Increase the number of iterations (max_iter) or scale the data as shown in:\n",
      "    https://scikit-learn.org/stable/modules/preprocessing.html\n",
      "Please also refer to the documentation for alternative solver options:\n",
      "    https://scikit-learn.org/stable/modules/linear_model.html#logistic-regression\n",
      "  n_iter_i = _check_optimize_result(\n"
     ]
    },
    {
     "data": {
      "text/plain": [
       "LogisticRegression()"
      ]
     },
     "execution_count": 31,
     "metadata": {},
     "output_type": "execute_result"
    }
   ],
   "source": [
    "from sklearn.linear_model import LogisticRegression\n",
    "clf = LogisticRegression()\n",
    "# training the model\n",
    "clf.fit(X_train, y_train)"
   ]
  },
  {
   "cell_type": "code",
   "execution_count": 32,
   "id": "3e8af935",
   "metadata": {},
   "outputs": [],
   "source": [
    "#Predicting the output\n",
    "y_pred = clf.predict(X_test)"
   ]
  },
  {
   "cell_type": "code",
   "execution_count": 33,
   "id": "6e3aaa05",
   "metadata": {},
   "outputs": [
    {
     "data": {
      "text/plain": [
       "array([0, 0, 0, ..., 0, 0, 0])"
      ]
     },
     "execution_count": 33,
     "metadata": {},
     "output_type": "execute_result"
    }
   ],
   "source": [
    "y_pred"
   ]
  },
  {
   "cell_type": "code",
   "execution_count": 40,
   "id": "700f57b8",
   "metadata": {},
   "outputs": [
    {
     "name": "stdout",
     "output_type": "stream",
     "text": [
      "ttttCLASSIFICATIION METRICSn\n",
      "                  precision    recall  f1-score   support\n",
      "\n",
      "Noncyberbullying       0.97      1.00      0.98    861418\n",
      "        politics       0.98      0.32      0.49       989\n",
      "          racial       0.94      0.79      0.86     21946\n",
      "          sexual       0.96      0.76      0.85      4946\n",
      "      appearance       0.96      0.74      0.84     14902\n",
      "         generic       0.98      0.89      0.93     49947\n",
      "    intelligence       1.00      0.85      0.92     95852\n",
      "\n",
      "        accuracy                           0.97   1050000\n",
      "       macro avg       0.97      0.76      0.84   1050000\n",
      "    weighted avg       0.97      0.97      0.97   1050000\n",
      "\n"
     ]
    }
   ],
   "source": [
    "# Classification report\n",
    "\n",
    "print('ttttCLASSIFICATIION METRICSn')\n",
    "print(metrics.classification_report(y_test, y_pred, target_names= df['label'].unique()))"
   ]
  },
  {
   "cell_type": "code",
   "execution_count": 41,
   "id": "34eceb74",
   "metadata": {},
   "outputs": [
    {
     "data": {
      "image/png": "[encoded data removed]",
      "text/plain": [
       "<Figure size 576x576 with 2 Axes>"
      ]
     },
     "metadata": {
      "needs_background": "light"
     },
     "output_type": "display_data"
    }
   ],
   "source": [
    "conf_mat = confusion_matrix(y_test, y_pred)\n",
    "fig, ax = plt.subplots(figsize=(8,8))\n",
    "sns.heatmap(conf_mat, annot=True, cmap=\"GnBu\", fmt='d')\n",
    "plt.ylabel('Actual')\n",
    "plt.xlabel('Predicted')\n",
    "plt.title(\"CONFUSION MATRIX - Logistic Regression\", size=16);"
   ]
  },
  {
   "cell_type": "code",
   "execution_count": 42,
   "id": "97ddbbe3",
   "metadata": {},
   "outputs": [],
   "source": [
    "##"
   ]
  },
  {
   "cell_type": "code",
   "execution_count": 43,
   "id": "92f41f32",
   "metadata": {},
   "outputs": [],
   "source": [
    "from sklearn.tree import DecisionTreeClassifier"
   ]
  },
  {
   "cell_type": "code",
   "execution_count": 44,
   "id": "db96b243",
   "metadata": {},
   "outputs": [],
   "source": [
    "classifier = DecisionTreeClassifier()\n"
   ]
  },
  {
   "cell_type": "code",
   "execution_count": 45,
   "id": "7ebbb133",
   "metadata": {},
   "outputs": [],
   "source": [
    "classifier = classifier.fit(X_train,y_train)"
   ]
  },
  {
   "cell_type": "code",
   "execution_count": 46,
   "id": "045b217a",
   "metadata": {},
   "outputs": [],
   "source": [
    "#prediction\n",
    "y_pred = classifier.predict(X_test)"
   ]
  },
  {
   "cell_type": "code",
   "execution_count": 47,
   "id": "55f62b0e",
   "metadata": {},
   "outputs": [],
   "source": [
    "classifier = classifier.fit(X_train,y_train)"
   ]
  },
  {
   "cell_type": "markdown",
   "id": "84290571",
   "metadata": {},
   "source": [
    "### Multinomial Naive Bayes"
   ]
  },
  {
   "cell_type": "code",
   "execution_count": 40,
   "id": "6de78743",
   "metadata": {},
   "outputs": [],
   "source": [
    "#Training the Naive Bayes model on the training set\n",
    "from sklearn.naive_bayes import MultinomialNB\n"
   ]
  },
  {
   "cell_type": "code",
   "execution_count": 41,
   "id": "43b1e19f",
   "metadata": {},
   "outputs": [],
   "source": [
    "classifier = MultinomialNB()\n"
   ]
  },
  {
   "cell_type": "code",
   "execution_count": 42,
   "id": "28bceeac",
   "metadata": {},
   "outputs": [
    {
     "data": {
      "text/plain": [
       "MultinomialNB()"
      ]
     },
     "execution_count": 42,
     "metadata": {},
     "output_type": "execute_result"
    }
   ],
   "source": [
    "classifier.fit(X_train, y_train)\n"
   ]
  },
  {
   "cell_type": "code",
   "execution_count": 43,
   "id": "00c3c9cc",
   "metadata": {},
   "outputs": [
    {
     "data": {
      "text/plain": [
       "array([0, 0, 0, ..., 0, 0, 0])"
      ]
     },
     "execution_count": 43,
     "metadata": {},
     "output_type": "execute_result"
    }
   ],
   "source": [
    "y_pred  =  classifier.predict(X_test)\n",
    "y_pred"
   ]
  },
  {
   "cell_type": "code",
   "execution_count": 44,
   "id": "f43962b0",
   "metadata": {},
   "outputs": [
    {
     "name": "stdout",
     "output_type": "stream",
     "text": [
      "ttttCLASSIFICATIION METRICS for Naive Bayesn\n"
     ]
    },
    {
     "name": "stderr",
     "output_type": "stream",
     "text": [
      "/Users/maggie/opt/anaconda3/lib/python3.9/site-packages/sklearn/metrics/_classification.py:1318: UndefinedMetricWarning: Precision and F-score are ill-defined and being set to 0.0 in labels with no predicted samples. Use `zero_division` parameter to control this behavior.\n",
      "  _warn_prf(average, modifier, msg_start, len(result))\n"
     ]
    },
    {
     "name": "stdout",
     "output_type": "stream",
     "text": [
      "                  precision    recall  f1-score   support\n",
      "\n",
      "Noncyberbullying       0.84      1.00      0.91    861418\n",
      "        politics       0.00      0.00      0.00       989\n",
      "          racial       1.00      0.02      0.03     21946\n",
      "          sexual       0.00      0.00      0.00      4946\n",
      "      appearance       1.00      0.01      0.01     14902\n",
      "         generic       1.00      0.08      0.15     49947\n",
      "    intelligence       0.92      0.18      0.31     95852\n",
      "\n",
      "        accuracy                           0.84   1050000\n",
      "       macro avg       0.68      0.18      0.20   1050000\n",
      "    weighted avg       0.86      0.84      0.78   1050000\n",
      "\n",
      "        Classification Metrics: Naive Bayes- Multinomial  \n"
     ]
    },
    {
     "name": "stderr",
     "output_type": "stream",
     "text": [
      "/Users/maggie/opt/anaconda3/lib/python3.9/site-packages/sklearn/metrics/_classification.py:1318: UndefinedMetricWarning: Precision and F-score are ill-defined and being set to 0.0 in labels with no predicted samples. Use `zero_division` parameter to control this behavior.\n",
      "  _warn_prf(average, modifier, msg_start, len(result))\n",
      "/Users/maggie/opt/anaconda3/lib/python3.9/site-packages/sklearn/metrics/_classification.py:1318: UndefinedMetricWarning: Precision and F-score are ill-defined and being set to 0.0 in labels with no predicted samples. Use `zero_division` parameter to control this behavior.\n",
      "  _warn_prf(average, modifier, msg_start, len(result))\n"
     ]
    }
   ],
   "source": [
    "# Classification report\n",
    "\n",
    "print('ttttCLASSIFICATIION METRICS for Naive Bayesn')\n",
    "print(metrics.classification_report(y_test, y_pred, target_names= df['label'].unique()))\n",
    "print('        Classification Metrics: Naive Bayes- Multinomial  ')"
   ]
  },
  {
   "cell_type": "code",
   "execution_count": 45,
   "id": "d726878f",
   "metadata": {},
   "outputs": [
    {
     "data": {
      "image/png": "[encoded data removed]",
      "text/plain": [
       "<Figure size 576x576 with 2 Axes>"
      ]
     },
     "metadata": {
      "needs_background": "light"
     },
     "output_type": "display_data"
    }
   ],
   "source": [
    "conf_mat = confusion_matrix(y_test, y_pred)\n",
    "fig, ax = plt.subplots(figsize=(8,8))\n",
    "sns.heatmap(conf_mat, annot=True, cmap=\"GnBu\", fmt='d')\n",
    "plt.ylabel('Actual')\n",
    "plt.xlabel('Predicted')\n",
    "plt.title(\"CONFUSION MATRIX - Naive Bayes - Multinomial\", size=16);"
   ]
  },
  {
   "cell_type": "code",
   "execution_count": 54,
   "id": "cc44fbd5",
   "metadata": {},
   "outputs": [
    {
     "name": "stdout",
     "output_type": "stream",
     "text": [
      "Requirement already satisfied: scikit-plot in /Users/maggie/opt/anaconda3/lib/python3.9/site-packages (0.3.7)\n",
      "Requirement already satisfied: scipy>=0.9 in /Users/maggie/opt/anaconda3/lib/python3.9/site-packages (from scikit-plot) (1.7.1)\n",
      "Requirement already satisfied: joblib>=0.10 in /Users/maggie/opt/anaconda3/lib/python3.9/site-packages (from scikit-plot) (1.1.0)\n",
      "Requirement already satisfied: scikit-learn>=0.18 in /Users/maggie/opt/anaconda3/lib/python3.9/site-packages (from scikit-plot) (1.0.2)\n",
      "Requirement already satisfied: matplotlib>=1.4.0 in /Users/maggie/opt/anaconda3/lib/python3.9/site-packages (from scikit-plot) (3.4.3)\n",
      "Requirement already satisfied: python-dateutil>=2.7 in /Users/maggie/opt/anaconda3/lib/python3.9/site-packages (from matplotlib>=1.4.0->scikit-plot) (2.8.2)\n",
      "Requirement already satisfied: pillow>=6.2.0 in /Users/maggie/opt/anaconda3/lib/python3.9/site-packages (from matplotlib>=1.4.0->scikit-plot) (8.4.0)\n",
      "Requirement already satisfied: numpy>=1.16 in /Users/maggie/opt/anaconda3/lib/python3.9/site-packages (from matplotlib>=1.4.0->scikit-plot) (1.20.3)\n",
      "Requirement already satisfied: kiwisolver>=1.0.1 in /Users/maggie/opt/anaconda3/lib/python3.9/site-packages (from matplotlib>=1.4.0->scikit-plot) (1.3.1)\n",
      "Requirement already satisfied: cycler>=0.10 in /Users/maggie/opt/anaconda3/lib/python3.9/site-packages (from matplotlib>=1.4.0->scikit-plot) (0.10.0)\n",
      "Requirement already satisfied: pyparsing>=2.2.1 in /Users/maggie/opt/anaconda3/lib/python3.9/site-packages (from matplotlib>=1.4.0->scikit-plot) (3.0.4)\n",
      "Requirement already satisfied: six in /Users/maggie/opt/anaconda3/lib/python3.9/site-packages (from cycler>=0.10->matplotlib>=1.4.0->scikit-plot) (1.16.0)\n",
      "Requirement already satisfied: threadpoolctl>=2.0.0 in /Users/maggie/opt/anaconda3/lib/python3.9/site-packages (from scikit-learn>=0.18->scikit-plot) (2.2.0)\n",
      "Note: you may need to restart the kernel to use updated packages.\n"
     ]
    }
   ],
   "source": [
    "pip install scikit-plot"
   ]
  },
  {
   "cell_type": "code",
   "execution_count": 46,
   "id": "1cbb483d",
   "metadata": {},
   "outputs": [],
   "source": [
    "import scikitplot as skplt"
   ]
  },
  {
   "cell_type": "code",
   "execution_count": 47,
   "id": "32fa59d9",
   "metadata": {},
   "outputs": [
    {
     "data": {
      "image/png": "[encoded data removed]",
      "text/plain": [
       "<Figure size 432x288 with 1 Axes>"
      ]
     },
     "metadata": {
      "needs_background": "light"
     },
     "output_type": "display_data"
    }
   ],
   "source": [
    "skplt.metrics.plot_roc(y_test, classifier.predict_proba(X_test),plot_micro=False)\n",
    "plt.title('ROC curve: Multi-nomial Naive Bayes')\n",
    "plt.show()"
   ]
  },
  {
   "cell_type": "code",
   "execution_count": 57,
   "id": "7b0d9ddf",
   "metadata": {},
   "outputs": [],
   "source": [
    "from sklearn.metrics import roc_curve"
   ]
  },
  {
   "cell_type": "code",
   "execution_count": 58,
   "id": "eb5d40b0",
   "metadata": {},
   "outputs": [
    {
     "ename": "NameError",
     "evalue": "name 'y_test_res' is not defined",
     "output_type": "error",
     "traceback": [
      "\u001b[0;31m---------------------------------------------------------------------------\u001b[0m",
      "\u001b[0;31mNameError\u001b[0m                                 Traceback (most recent call last)",
      "\u001b[0;32m/var/folders/1v/x5wmbpv968z1bmkh4vxwvqt80000gn/T/ipykernel_14718/3791566969.py\u001b[0m in \u001b[0;36m<module>\u001b[0;34m\u001b[0m\n\u001b[1;32m      2\u001b[0m \u001b[0;34m\u001b[0m\u001b[0m\n\u001b[1;32m      3\u001b[0m \u001b[0mrandom_probs\u001b[0m \u001b[0;34m=\u001b[0m \u001b[0;34m[\u001b[0m\u001b[0;36m0\u001b[0m \u001b[0;32mfor\u001b[0m \u001b[0mi\u001b[0m \u001b[0;32min\u001b[0m \u001b[0mrange\u001b[0m\u001b[0;34m(\u001b[0m\u001b[0mlen\u001b[0m\u001b[0;34m(\u001b[0m\u001b[0my_test\u001b[0m\u001b[0;34m)\u001b[0m\u001b[0;34m)\u001b[0m\u001b[0;34m]\u001b[0m\u001b[0;34m\u001b[0m\u001b[0;34m\u001b[0m\u001b[0m\n\u001b[0;32m----> 4\u001b[0;31m \u001b[0mp_fpr\u001b[0m\u001b[0;34m,\u001b[0m \u001b[0mp_tpr\u001b[0m\u001b[0;34m,\u001b[0m \u001b[0m_\u001b[0m \u001b[0;34m=\u001b[0m \u001b[0mroc_curve\u001b[0m\u001b[0;34m(\u001b[0m\u001b[0my_test_res\u001b[0m\u001b[0;34m,\u001b[0m \u001b[0mrandom_probs\u001b[0m\u001b[0;34m,\u001b[0m \u001b[0mpos_label\u001b[0m\u001b[0;34m=\u001b[0m\u001b[0;36m1\u001b[0m\u001b[0;34m)\u001b[0m\u001b[0;34m\u001b[0m\u001b[0;34m\u001b[0m\u001b[0m\n\u001b[0m\u001b[1;32m      5\u001b[0m \u001b[0;34m\u001b[0m\u001b[0m\n\u001b[1;32m      6\u001b[0m \u001b[0mfpr\u001b[0m \u001b[0;34m=\u001b[0m \u001b[0;34m{\u001b[0m\u001b[0;34m}\u001b[0m\u001b[0;34m\u001b[0m\u001b[0;34m\u001b[0m\u001b[0m\n",
      "\u001b[0;31mNameError\u001b[0m: name 'y_test_res' is not defined"
     ]
    }
   ],
   "source": [
    "fpr1, tpr1, thresh1 = roc_curve(y_test, y_pred, pos_label=1)\n",
    "\n",
    "random_probs = [0 for i in range(len(y_test))]\n",
    "p_fpr, p_tpr, _ = roc_curve(y_test_res, random_probs, pos_label=1)\n",
    "\n",
    "fpr = {}\n",
    "tpr = {}\n",
    "thresh ={}\n",
    "\n",
    "n_class = 7\n",
    "\n",
    "for i in range(n_class):    \n",
    "    fpr[i], tpr[i], thresh[i] = roc_curve(y_test, y_pred, pos_label=i)\n",
    "\n",
    "\n",
    "plt.plot(fpr[0], tpr[0], linestyle='--',color='red', label='Noncyberbullying')\n",
    "\n",
    "plt.plot(fpr[1], tpr[1], linestyle='--',color='green', label='Sexual')\n",
    "\n",
    "plt.plot(fpr[2], tpr[2], linestyle='--',color='yellow', label='Racial')\n",
    "\n",
    "plt.plot(fpr[3], tpr[3], linestyle='--',color='blue', label='Generic')\n",
    "\n",
    "plt.plot(fpr[4], tpr[4], linestyle='--',color='orange', label='Politics')\n",
    "\n",
    "plt.plot(fpr[5], tpr[5], linestyle='--',color='indigo', label='Intelligence')\n",
    "\n",
    "plt.plot(fpr[6], tpr[6], linestyle='--',color='violet', label='Appearance')\n",
    "\n",
    "plt.plot(p_fpr, p_tpr, linestyle='--', color='black')\n",
    "# title\n",
    "plt.title('ROC curve: Multi-nomial Naive Bayes')\n",
    "# x label\n",
    "plt.xlabel('False Positive Rate')\n",
    "# y label\n",
    "plt.ylabel('True Positive rate')\n",
    "\n",
    "plt.legend(loc='best')\n",
    "plt.savefig('ROC',dpi=300)\n",
    "plt.show();"
   ]
  },
  {
   "cell_type": "code",
   "execution_count": null,
   "id": "b4ef3c03",
   "metadata": {},
   "outputs": [],
   "source": [
    "#F1 Score\n",
    "# Precision-Recall\n",
    "# Confusion Matrix\n",
    "# Roc Curve\n"
   ]
  },
  {
   "cell_type": "code",
   "execution_count": null,
   "id": "dd513a8a",
   "metadata": {},
   "outputs": [],
   "source": [
    "#F1 Score\n",
    "\n",
    "from sklearn.metrics import f1_score\n",
    "f1_score(y_test, y_pred,  average=None)"
   ]
  },
  {
   "cell_type": "code",
   "execution_count": null,
   "id": "adc58502",
   "metadata": {},
   "outputs": [],
   "source": [
    "#Accuracy score\n",
    "\n",
    "from sklearn.metrics import accuracy_score\n",
    "\n",
    "ac = accuracy_score(y_test, y_pred)\n",
    "ac"
   ]
  },
  {
   "cell_type": "code",
   "execution_count": null,
   "id": "98f191c3",
   "metadata": {},
   "outputs": [],
   "source": [
    "#roc"
   ]
  },
  {
   "cell_type": "code",
   "execution_count": null,
   "id": "883c7b3c",
   "metadata": {},
   "outputs": [],
   "source": [
    "#precision recall curve"
   ]
  },
  {
   "cell_type": "code",
   "execution_count": null,
   "id": "d9ba93ae",
   "metadata": {},
   "outputs": [],
   "source": []
  },
  {
   "cell_type": "code",
   "execution_count": null,
   "id": "41bc32d3",
   "metadata": {},
   "outputs": [],
   "source": []
  }
 ],
 "metadata": {
  "kernelspec": {
   "display_name": "Python 3 (ipykernel)",
   "language": "python",
   "name": "python3"
  },
  "language_info": {
   "codemirror_mode": {
    "name": "ipython",
    "version": 3
   },
   "file_extension": ".py",
   "mimetype": "text/x-python",
   "name": "python",
   "nbconvert_exporter": "python",
   "pygments_lexer": "ipython3",
   "version": "3.9.7"
  }
 },
 "nbformat": 4,
 "nbformat_minor": 5
}
