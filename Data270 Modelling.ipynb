{
 "cells": [
  {
   "cell_type": "code",
   "execution_count": 38,
   "id": "d4ef3bf6",
   "metadata": {},
   "outputs": [],
   "source": []
  },
  {
   "cell_type": "code",
   "execution_count": 2,
   "id": "e32046ca",
   "metadata": {},
   "outputs": [],
   "source": [
    "import pandas as pd\n",
    "import numpy as np\n",
    "\n",
    "import seaborn as sns\n",
    "import matplotlib.pyplot as plt\n",
    "from sklearn import preprocessing\n",
    "\n",
    "import nltk\n",
    "from nltk.corpus import stopwords\n",
    "from nltk.corpus import wordnet\n",
    "from nltk.tokenize import word_tokenize\n",
    "from nltk.stem.wordnet import WordNetLemmatizer\n",
    "from nltk.stem.porter import PorterStemmer\n",
    "from nltk.stem.snowball import SnowballStemmer\n",
    "\n",
    "from sklearn.preprocessing import LabelEncoder\n",
    "\n",
    "from sklearn.decomposition import PCA\n",
    "from sklearn.decomposition import TruncatedSVD\n",
    "from sklearn.feature_extraction.text import TfidfVectorizer\n",
    "from sklearn.feature_extraction.text import CountVectorizer\n",
    "from sklearn.feature_extraction.text import HashingVectorizer\n",
    "from sklearn.feature_extraction.text import TfidfTransformer\n",
    "from sklearn.pipeline import Pipeline\n",
    "from sklearn.manifold import TSNE\n",
    "from gensim.models import Word2Vec\n",
    "\n",
    "from datetime import datetime\n",
    "\n",
    "#import contractions\n",
    "#import langdetect\n",
    "#from langdetect import detect\n",
    "#import emot\n",
    "#from emot.emo_unicode import EMOTICONS_EMO, UNICODE_EMOJI\n",
    "\n",
    "import re\n",
    "import pickle\n",
    "import string\n",
    "import os\n",
    "\n",
    "#Modelling\n",
    "from sklearn.model_selection import train_test_split\n",
    "from scipy.stats import randint\n",
    "from sklearn.naive_bayes import MultinomialNB\n",
    "from sklearn.linear_model import LogisticRegression\n",
    "from sklearn.ensemble import RandomForestClassifier\n",
    "from sklearn.svm import LinearSVC\n",
    "from sklearn.model_selection import cross_val_score\n",
    "from sklearn.metrics import confusion_matrix\n",
    "from sklearn import metrics\n",
    "#os.chdir('/Users/michelleyuu/Desktop/data270/data')"
   ]
  },
  {
   "cell_type": "code",
   "execution_count": 5,
   "id": "547602cb",
   "metadata": {},
   "outputs": [
    {
     "data": {
      "text/html": [
       "<div>\n",
       "<style scoped>\n",
       "    .dataframe tbody tr th:only-of-type {\n",
       "        vertical-align: middle;\n",
       "    }\n",
       "\n",
       "    .dataframe tbody tr th {\n",
       "        vertical-align: top;\n",
       "    }\n",
       "\n",
       "    .dataframe thead th {\n",
       "        text-align: right;\n",
       "    }\n",
       "</style>\n",
       "<table border=\"1\" class=\"dataframe\">\n",
       "  <thead>\n",
       "    <tr style=\"text-align: right;\">\n",
       "      <th></th>\n",
       "      <th>Sexual</th>\n",
       "      <th>Racial</th>\n",
       "      <th>Appearance</th>\n",
       "      <th>Intelligence</th>\n",
       "      <th>Politics</th>\n",
       "      <th>Generic</th>\n",
       "    </tr>\n",
       "  </thead>\n",
       "  <tbody>\n",
       "    <tr>\n",
       "      <th>0</th>\n",
       "      <td>amateur</td>\n",
       "      <td>abbo</td>\n",
       "      <td>alla</td>\n",
       "      <td>cockbite</td>\n",
       "      <td>anal</td>\n",
       "      <td>assbite</td>\n",
       "    </tr>\n",
       "    <tr>\n",
       "      <th>1</th>\n",
       "      <td>AnalAnnie</td>\n",
       "      <td>abo</td>\n",
       "      <td>big ass</td>\n",
       "      <td>Cockmuncher</td>\n",
       "      <td>anus</td>\n",
       "      <td>asscock</td>\n",
       "    </tr>\n",
       "    <tr>\n",
       "      <th>2</th>\n",
       "      <td>Angie</td>\n",
       "      <td>African Forklift</td>\n",
       "      <td>camel toe</td>\n",
       "      <td>demon</td>\n",
       "      <td>arse</td>\n",
       "      <td>asses</td>\n",
       "    </tr>\n",
       "  </tbody>\n",
       "</table>\n",
       "</div>"
      ],
      "text/plain": [
       "      Sexual            Racial Appearance Intelligence Politics  Generic\n",
       "0    amateur              abbo       alla     cockbite     anal  assbite\n",
       "1  AnalAnnie               abo    big ass  Cockmuncher     anus  asscock\n",
       "2      Angie  African Forklift  camel toe        demon     arse    asses"
      ]
     },
     "execution_count": 5,
     "metadata": {},
     "output_type": "execute_result"
    }
   ],
   "source": [
    "harassment = pd.read_csv(r\"C:\\Users\\saksh\\OneDrive\\Desktop\\Data Processes\\Harassment-Corpus-master\\Harassment Lexicon.csv\")\n",
    "harassment.head(3)"
   ]
  },
  {
   "cell_type": "code",
   "execution_count": 25,
   "id": "59bb08b6",
   "metadata": {},
   "outputs": [],
   "source": [
    "data = pd.read_csv(r'C:\\Users\\saksh\\OneDrive\\Desktop\\Data Processes\\sentiment140_clean.csv') "
   ]
  },
  {
   "cell_type": "code",
   "execution_count": 30,
   "id": "41b02132",
   "metadata": {},
   "outputs": [
    {
     "data": {
      "text/plain": [
       "(1600000, 16)"
      ]
     },
     "execution_count": 30,
     "metadata": {},
     "output_type": "execute_result"
    }
   ],
   "source": [
    "data.shape"
   ]
  },
  {
   "cell_type": "code",
   "execution_count": 29,
   "id": "ef64ae2f",
   "metadata": {
    "collapsed": true
   },
   "outputs": [
    {
     "data": {
      "text/html": [
       "<div>\n",
       "<style scoped>\n",
       "    .dataframe tbody tr th:only-of-type {\n",
       "        vertical-align: middle;\n",
       "    }\n",
       "\n",
       "    .dataframe tbody tr th {\n",
       "        vertical-align: top;\n",
       "    }\n",
       "\n",
       "    .dataframe thead th {\n",
       "        text-align: right;\n",
       "    }\n",
       "</style>\n",
       "<table border=\"1\" class=\"dataframe\">\n",
       "  <thead>\n",
       "    <tr style=\"text-align: right;\">\n",
       "      <th></th>\n",
       "      <th>sentiment</th>\n",
       "      <th>id</th>\n",
       "      <th>date</th>\n",
       "      <th>user</th>\n",
       "      <th>text</th>\n",
       "      <th>text_lower</th>\n",
       "      <th>text_no_stop</th>\n",
       "      <th>tokenized_words</th>\n",
       "      <th>sexual</th>\n",
       "      <th>racial</th>\n",
       "      <th>appearance</th>\n",
       "      <th>intelligence</th>\n",
       "      <th>politics</th>\n",
       "      <th>generic</th>\n",
       "      <th>label</th>\n",
       "      <th>encoded_label</th>\n",
       "    </tr>\n",
       "  </thead>\n",
       "  <tbody>\n",
       "    <tr>\n",
       "      <th>83</th>\n",
       "      <td>0</td>\n",
       "      <td>1467834265</td>\n",
       "      <td>Mon Apr 06 22:25:54 PDT 2009</td>\n",
       "      <td>mike_webster_au</td>\n",
       "      <td>@markhardy1974 Me too  #itm</td>\n",
       "      <td>@markhardy1974 me too  #itm</td>\n",
       "      <td></td>\n",
       "      <td>NaN</td>\n",
       "      <td>0</td>\n",
       "      <td>0</td>\n",
       "      <td>0</td>\n",
       "      <td>0</td>\n",
       "      <td>0</td>\n",
       "      <td>0</td>\n",
       "      <td>Noncyberbullying</td>\n",
       "      <td>0</td>\n",
       "    </tr>\n",
       "    <tr>\n",
       "      <th>135</th>\n",
       "      <td>0</td>\n",
       "      <td>1467842448</td>\n",
       "      <td>Mon Apr 06 22:28:05 PDT 2009</td>\n",
       "      <td>R_Boucher</td>\n",
       "      <td>Agh...snow!!!</td>\n",
       "      <td>agh...snow!!!</td>\n",
       "      <td>NaN</td>\n",
       "      <td>NaN</td>\n",
       "      <td>0</td>\n",
       "      <td>0</td>\n",
       "      <td>0</td>\n",
       "      <td>0</td>\n",
       "      <td>0</td>\n",
       "      <td>0</td>\n",
       "      <td>Noncyberbullying</td>\n",
       "      <td>0</td>\n",
       "    </tr>\n",
       "    <tr>\n",
       "      <th>151</th>\n",
       "      <td>0</td>\n",
       "      <td>1467844505</td>\n",
       "      <td>Mon Apr 06 22:28:38 PDT 2009</td>\n",
       "      <td>luimoral85</td>\n",
       "      <td>I don't understand... I really don't</td>\n",
       "      <td>i don't understand... i really don't</td>\n",
       "      <td>NaN</td>\n",
       "      <td>NaN</td>\n",
       "      <td>0</td>\n",
       "      <td>0</td>\n",
       "      <td>0</td>\n",
       "      <td>0</td>\n",
       "      <td>0</td>\n",
       "      <td>0</td>\n",
       "      <td>Noncyberbullying</td>\n",
       "      <td>0</td>\n",
       "    </tr>\n",
       "    <tr>\n",
       "      <th>191</th>\n",
       "      <td>0</td>\n",
       "      <td>1467859666</td>\n",
       "      <td>Mon Apr 06 22:32:31 PDT 2009</td>\n",
       "      <td>DreamActivist23</td>\n",
       "      <td>@HillyDoP  oH NO</td>\n",
       "      <td>@hillydop  oh no</td>\n",
       "      <td>NaN</td>\n",
       "      <td>NaN</td>\n",
       "      <td>0</td>\n",
       "      <td>0</td>\n",
       "      <td>0</td>\n",
       "      <td>0</td>\n",
       "      <td>0</td>\n",
       "      <td>0</td>\n",
       "      <td>Noncyberbullying</td>\n",
       "      <td>0</td>\n",
       "    </tr>\n",
       "    <tr>\n",
       "      <th>208</th>\n",
       "      <td>0</td>\n",
       "      <td>1467863072</td>\n",
       "      <td>Mon Apr 06 22:33:25 PDT 2009</td>\n",
       "      <td>Artiel87</td>\n",
       "      <td>@mandayyy</td>\n",
       "      <td>@mandayyy</td>\n",
       "      <td>NaN</td>\n",
       "      <td>NaN</td>\n",
       "      <td>0</td>\n",
       "      <td>0</td>\n",
       "      <td>0</td>\n",
       "      <td>0</td>\n",
       "      <td>0</td>\n",
       "      <td>0</td>\n",
       "      <td>Noncyberbullying</td>\n",
       "      <td>0</td>\n",
       "    </tr>\n",
       "    <tr>\n",
       "      <th>...</th>\n",
       "      <td>...</td>\n",
       "      <td>...</td>\n",
       "      <td>...</td>\n",
       "      <td>...</td>\n",
       "      <td>...</td>\n",
       "      <td>...</td>\n",
       "      <td>...</td>\n",
       "      <td>...</td>\n",
       "      <td>...</td>\n",
       "      <td>...</td>\n",
       "      <td>...</td>\n",
       "      <td>...</td>\n",
       "      <td>...</td>\n",
       "      <td>...</td>\n",
       "      <td>...</td>\n",
       "      <td>...</td>\n",
       "    </tr>\n",
       "    <tr>\n",
       "      <th>1599720</th>\n",
       "      <td>4</td>\n",
       "      <td>2193525714</td>\n",
       "      <td>Tue Jun 16 08:34:36 PDT 2009</td>\n",
       "      <td>EmilyatMeritain</td>\n",
       "      <td>@alwaysfurst See you there</td>\n",
       "      <td>@alwaysfurst see you there</td>\n",
       "      <td>NaN</td>\n",
       "      <td>NaN</td>\n",
       "      <td>0</td>\n",
       "      <td>0</td>\n",
       "      <td>0</td>\n",
       "      <td>0</td>\n",
       "      <td>0</td>\n",
       "      <td>0</td>\n",
       "      <td>Noncyberbullying</td>\n",
       "      <td>0</td>\n",
       "    </tr>\n",
       "    <tr>\n",
       "      <th>1599773</th>\n",
       "      <td>4</td>\n",
       "      <td>2193528265</td>\n",
       "      <td>Tue Jun 16 08:34:49 PDT 2009</td>\n",
       "      <td>Runwithsissorz</td>\n",
       "      <td>@ijustine hey</td>\n",
       "      <td>@ijustine hey</td>\n",
       "      <td>NaN</td>\n",
       "      <td>NaN</td>\n",
       "      <td>0</td>\n",
       "      <td>0</td>\n",
       "      <td>0</td>\n",
       "      <td>0</td>\n",
       "      <td>0</td>\n",
       "      <td>0</td>\n",
       "      <td>Noncyberbullying</td>\n",
       "      <td>0</td>\n",
       "    </tr>\n",
       "    <tr>\n",
       "      <th>1599811</th>\n",
       "      <td>4</td>\n",
       "      <td>2193550913</td>\n",
       "      <td>Tue Jun 16 08:36:39 PDT 2009</td>\n",
       "      <td>handriani</td>\n",
       "      <td>to be with you</td>\n",
       "      <td>to be with you</td>\n",
       "      <td>NaN</td>\n",
       "      <td>NaN</td>\n",
       "      <td>0</td>\n",
       "      <td>0</td>\n",
       "      <td>0</td>\n",
       "      <td>0</td>\n",
       "      <td>0</td>\n",
       "      <td>0</td>\n",
       "      <td>Noncyberbullying</td>\n",
       "      <td>0</td>\n",
       "    </tr>\n",
       "    <tr>\n",
       "      <th>1599914</th>\n",
       "      <td>4</td>\n",
       "      <td>2193575571</td>\n",
       "      <td>Tue Jun 16 08:38:41 PDT 2009</td>\n",
       "      <td>BeBo_Evilbunny</td>\n",
       "      <td>@PJA4ever Back..</td>\n",
       "      <td>@pja4ever back..</td>\n",
       "      <td></td>\n",
       "      <td>NaN</td>\n",
       "      <td>0</td>\n",
       "      <td>0</td>\n",
       "      <td>0</td>\n",
       "      <td>0</td>\n",
       "      <td>0</td>\n",
       "      <td>0</td>\n",
       "      <td>Noncyberbullying</td>\n",
       "      <td>0</td>\n",
       "    </tr>\n",
       "    <tr>\n",
       "      <th>1599993</th>\n",
       "      <td>4</td>\n",
       "      <td>2193579477</td>\n",
       "      <td>Tue Jun 16 08:39:00 PDT 2009</td>\n",
       "      <td>ChloeAmisha</td>\n",
       "      <td>@SCOOBY_GRITBOYS</td>\n",
       "      <td>@scooby_gritboys</td>\n",
       "      <td>NaN</td>\n",
       "      <td>NaN</td>\n",
       "      <td>0</td>\n",
       "      <td>0</td>\n",
       "      <td>0</td>\n",
       "      <td>0</td>\n",
       "      <td>0</td>\n",
       "      <td>0</td>\n",
       "      <td>Noncyberbullying</td>\n",
       "      <td>0</td>\n",
       "    </tr>\n",
       "  </tbody>\n",
       "</table>\n",
       "<p>13427 rows × 16 columns</p>\n",
       "</div>"
      ],
      "text/plain": [
       "         sentiment          id                          date             user  \\\n",
       "83               0  1467834265  Mon Apr 06 22:25:54 PDT 2009  mike_webster_au   \n",
       "135              0  1467842448  Mon Apr 06 22:28:05 PDT 2009        R_Boucher   \n",
       "151              0  1467844505  Mon Apr 06 22:28:38 PDT 2009       luimoral85   \n",
       "191              0  1467859666  Mon Apr 06 22:32:31 PDT 2009  DreamActivist23   \n",
       "208              0  1467863072  Mon Apr 06 22:33:25 PDT 2009         Artiel87   \n",
       "...            ...         ...                           ...              ...   \n",
       "1599720          4  2193525714  Tue Jun 16 08:34:36 PDT 2009  EmilyatMeritain   \n",
       "1599773          4  2193528265  Tue Jun 16 08:34:49 PDT 2009   Runwithsissorz   \n",
       "1599811          4  2193550913  Tue Jun 16 08:36:39 PDT 2009        handriani   \n",
       "1599914          4  2193575571  Tue Jun 16 08:38:41 PDT 2009   BeBo_Evilbunny   \n",
       "1599993          4  2193579477  Tue Jun 16 08:39:00 PDT 2009      ChloeAmisha   \n",
       "\n",
       "                                          text  \\\n",
       "83                 @markhardy1974 Me too  #itm   \n",
       "135                             Agh...snow!!!    \n",
       "151      I don't understand... I really don't    \n",
       "191                           @HillyDoP  oH NO   \n",
       "208                                 @mandayyy    \n",
       "...                                        ...   \n",
       "1599720            @alwaysfurst See you there    \n",
       "1599773                         @ijustine hey    \n",
       "1599811                        to be with you    \n",
       "1599914                      @PJA4ever Back..    \n",
       "1599993                      @SCOOBY_GRITBOYS    \n",
       "\n",
       "                                    text_lower text_no_stop tokenized_words  \\\n",
       "83                 @markhardy1974 me too  #itm                          NaN   \n",
       "135                             agh...snow!!!           NaN             NaN   \n",
       "151      i don't understand... i really don't           NaN             NaN   \n",
       "191                           @hillydop  oh no          NaN             NaN   \n",
       "208                                 @mandayyy           NaN             NaN   \n",
       "...                                        ...          ...             ...   \n",
       "1599720            @alwaysfurst see you there           NaN             NaN   \n",
       "1599773                         @ijustine hey           NaN             NaN   \n",
       "1599811                        to be with you           NaN             NaN   \n",
       "1599914                      @pja4ever back..                           NaN   \n",
       "1599993                      @scooby_gritboys           NaN             NaN   \n",
       "\n",
       "         sexual  racial  appearance  intelligence  politics  generic  \\\n",
       "83            0       0           0             0         0        0   \n",
       "135           0       0           0             0         0        0   \n",
       "151           0       0           0             0         0        0   \n",
       "191           0       0           0             0         0        0   \n",
       "208           0       0           0             0         0        0   \n",
       "...         ...     ...         ...           ...       ...      ...   \n",
       "1599720       0       0           0             0         0        0   \n",
       "1599773       0       0           0             0         0        0   \n",
       "1599811       0       0           0             0         0        0   \n",
       "1599914       0       0           0             0         0        0   \n",
       "1599993       0       0           0             0         0        0   \n",
       "\n",
       "                    label  encoded_label  \n",
       "83       Noncyberbullying              0  \n",
       "135      Noncyberbullying              0  \n",
       "151      Noncyberbullying              0  \n",
       "191      Noncyberbullying              0  \n",
       "208      Noncyberbullying              0  \n",
       "...                   ...            ...  \n",
       "1599720  Noncyberbullying              0  \n",
       "1599773  Noncyberbullying              0  \n",
       "1599811  Noncyberbullying              0  \n",
       "1599914  Noncyberbullying              0  \n",
       "1599993  Noncyberbullying              0  \n",
       "\n",
       "[13427 rows x 16 columns]"
      ]
     },
     "execution_count": 29,
     "metadata": {},
     "output_type": "execute_result"
    }
   ],
   "source": [
    "data[data['tokenized_words'].isna()]"
   ]
  },
  {
   "cell_type": "code",
   "execution_count": 34,
   "id": "edb6151f",
   "metadata": {
    "scrolled": true
   },
   "outputs": [],
   "source": [
    "data = data.dropna()"
   ]
  },
  {
   "cell_type": "code",
   "execution_count": 35,
   "id": "0faae13c",
   "metadata": {},
   "outputs": [
    {
     "data": {
      "text/html": [
       "<div>\n",
       "<style scoped>\n",
       "    .dataframe tbody tr th:only-of-type {\n",
       "        vertical-align: middle;\n",
       "    }\n",
       "\n",
       "    .dataframe tbody tr th {\n",
       "        vertical-align: top;\n",
       "    }\n",
       "\n",
       "    .dataframe thead th {\n",
       "        text-align: right;\n",
       "    }\n",
       "</style>\n",
       "<table border=\"1\" class=\"dataframe\">\n",
       "  <thead>\n",
       "    <tr style=\"text-align: right;\">\n",
       "      <th></th>\n",
       "      <th>sentiment</th>\n",
       "      <th>id</th>\n",
       "      <th>date</th>\n",
       "      <th>user</th>\n",
       "      <th>text</th>\n",
       "      <th>text_lower</th>\n",
       "      <th>text_no_stop</th>\n",
       "      <th>tokenized_words</th>\n",
       "      <th>sexual</th>\n",
       "      <th>racial</th>\n",
       "      <th>appearance</th>\n",
       "      <th>intelligence</th>\n",
       "      <th>politics</th>\n",
       "      <th>generic</th>\n",
       "      <th>label</th>\n",
       "      <th>encoded_label</th>\n",
       "    </tr>\n",
       "  </thead>\n",
       "  <tbody>\n",
       "  </tbody>\n",
       "</table>\n",
       "</div>"
      ],
      "text/plain": [
       "Empty DataFrame\n",
       "Columns: [sentiment, id, date, user, text, text_lower, text_no_stop, tokenized_words, sexual, racial, appearance, intelligence, politics, generic, label, encoded_label]\n",
       "Index: []"
      ]
     },
     "execution_count": 35,
     "metadata": {},
     "output_type": "execute_result"
    }
   ],
   "source": [
    "data[data['tokenized_words'].isna()]"
   ]
  },
  {
   "cell_type": "code",
   "execution_count": 39,
   "id": "90f56531",
   "metadata": {},
   "outputs": [
    {
     "data": {
      "text/plain": [
       "(1586573, 5)"
      ]
     },
     "execution_count": 39,
     "metadata": {},
     "output_type": "execute_result"
    }
   ],
   "source": [
    "# data_sample =  data[data['text'].str.contains('whore')].reset_index(drop=True)\n",
    "df = data[['id', 'sentiment', 'tokenized_words','label', 'encoded_label']]\n",
    "\n",
    "\n",
    "df.shape"
   ]
  },
  {
   "cell_type": "code",
   "execution_count": 41,
   "id": "a7f16458",
   "metadata": {},
   "outputs": [
    {
     "data": {
      "text/html": [
       "<div>\n",
       "<style scoped>\n",
       "    .dataframe tbody tr th:only-of-type {\n",
       "        vertical-align: middle;\n",
       "    }\n",
       "\n",
       "    .dataframe tbody tr th {\n",
       "        vertical-align: top;\n",
       "    }\n",
       "\n",
       "    .dataframe thead th {\n",
       "        text-align: right;\n",
       "    }\n",
       "</style>\n",
       "<table border=\"1\" class=\"dataframe\">\n",
       "  <thead>\n",
       "    <tr style=\"text-align: right;\">\n",
       "      <th></th>\n",
       "      <th>id</th>\n",
       "      <th>sentiment</th>\n",
       "      <th>tokenized_words</th>\n",
       "      <th>label</th>\n",
       "      <th>encoded_label</th>\n",
       "    </tr>\n",
       "  </thead>\n",
       "  <tbody>\n",
       "    <tr>\n",
       "      <th>0</th>\n",
       "      <td>1467810369</td>\n",
       "      <td>0</td>\n",
       "      <td>awww bummer david carr third day it d</td>\n",
       "      <td>Noncyberbullying</td>\n",
       "      <td>0</td>\n",
       "    </tr>\n",
       "    <tr>\n",
       "      <th>1</th>\n",
       "      <td>1467810672</td>\n",
       "      <td>0</td>\n",
       "      <td>upset update facebook texting might cry result...</td>\n",
       "      <td>Noncyberbullying</td>\n",
       "      <td>0</td>\n",
       "    </tr>\n",
       "    <tr>\n",
       "      <th>2</th>\n",
       "      <td>1467810917</td>\n",
       "      <td>0</td>\n",
       "      <td>dive many time ball manage save 50 rest bound</td>\n",
       "      <td>Noncyberbullying</td>\n",
       "      <td>0</td>\n",
       "    </tr>\n",
       "  </tbody>\n",
       "</table>\n",
       "</div>"
      ],
      "text/plain": [
       "           id  sentiment                                    tokenized_words  \\\n",
       "0  1467810369          0              awww bummer david carr third day it d   \n",
       "1  1467810672          0  upset update facebook texting might cry result...   \n",
       "2  1467810917          0      dive many time ball manage save 50 rest bound   \n",
       "\n",
       "              label  encoded_label  \n",
       "0  Noncyberbullying              0  \n",
       "1  Noncyberbullying              0  \n",
       "2  Noncyberbullying              0  "
      ]
     },
     "execution_count": 41,
     "metadata": {},
     "output_type": "execute_result"
    }
   ],
   "source": [
    "df.head(3)"
   ]
  },
  {
   "cell_type": "code",
   "execution_count": 45,
   "id": "1becaf5e",
   "metadata": {},
   "outputs": [
    {
     "data": {
      "text/plain": [
       "Noncyberbullying    1302381\n",
       "sexual               144959\n",
       "racial                74636\n",
       "generic               33135\n",
       "politics              22650\n",
       "intelligence           7354\n",
       "appearance             1458\n",
       "Name: label, dtype: int64"
      ]
     },
     "execution_count": 45,
     "metadata": {},
     "output_type": "execute_result"
    }
   ],
   "source": [
    "df['label'].value_counts()"
   ]
  },
  {
   "cell_type": "code",
   "execution_count": 54,
   "id": "c5fdec9f",
   "metadata": {},
   "outputs": [
    {
     "name": "stderr",
     "output_type": "stream",
     "text": [
      "C:\\Users\\saksh\\anaconda3\\envs\\playground_st\\lib\\site-packages\\pandas\\core\\frame.py:4906: SettingWithCopyWarning: \n",
      "A value is trying to be set on a copy of a slice from a DataFrame\n",
      "\n",
      "See the caveats in the documentation: https://pandas.pydata.org/pandas-docs/stable/user_guide/indexing.html#returning-a-view-versus-a-copy\n",
      "  return super().drop(\n"
     ]
    },
    {
     "data": {
      "text/plain": [
       "Noncyberbullying    752174\n",
       "sexual               82709\n",
       "racial               41211\n",
       "generic              19006\n",
       "politics             12939\n",
       "intelligence          4516\n",
       "appearance             872\n",
       "Name: label, dtype: int64"
      ]
     },
     "execution_count": 54,
     "metadata": {},
     "output_type": "execute_result"
    }
   ],
   "source": [
    "df.drop(df.tail(86573).index,\n",
    "        inplace = True)\n",
    "df['label'].value_counts()\n"
   ]
  },
  {
   "cell_type": "code",
   "execution_count": 5,
   "id": "6acb7ff6",
   "metadata": {},
   "outputs": [],
   "source": [
    "# df = df_sample[['id', 'sentiment', 'tokenized_words', 'sexual', 'racial', 'appearance', 'intelligence', 'politics', 'generic']]\n",
    "# df.head()"
   ]
  },
  {
   "cell_type": "code",
   "execution_count": 55,
   "id": "dece61ec",
   "metadata": {},
   "outputs": [
    {
     "data": {
      "text/plain": [
       "0                awww bummer david carr third day it d\n",
       "1    upset update facebook texting might cry result...\n",
       "2        dive many time ball manage save 50 rest bound\n",
       "3                      whole body feel itchy like fire\n",
       "Name: tokenized_words, dtype: object"
      ]
     },
     "execution_count": 55,
     "metadata": {},
     "output_type": "execute_result"
    }
   ],
   "source": [
    "corpus = df['tokenized_words']\n",
    "corpus.head(4)"
   ]
  },
  {
   "cell_type": "code",
   "execution_count": 58,
   "id": "d7916ff6",
   "metadata": {},
   "outputs": [],
   "source": [
    "#tfidf vectorizer\n",
    "\n",
    "vectorizer = TfidfVectorizer(norm='l2', binary=True, dtype=np.float32)\n",
    "reg_vec = vectorizer.fit_transform(df['tokenized_words'].values.astype('U'))"
   ]
  },
  {
   "cell_type": "code",
   "execution_count": 59,
   "id": "8afb37ca",
   "metadata": {},
   "outputs": [
    {
     "data": {
      "text/plain": [
       "<913427x212535 sparse matrix of type '<class 'numpy.float32'>'\n",
       "\twith 5643904 stored elements in Compressed Sparse Row format>"
      ]
     },
     "execution_count": 59,
     "metadata": {},
     "output_type": "execute_result"
    }
   ],
   "source": [
    "#Descriptive feature data\n",
    "reg_vec"
   ]
  },
  {
   "cell_type": "code",
   "execution_count": 60,
   "id": "75a0938c",
   "metadata": {},
   "outputs": [],
   "source": [
    "tsvd = TruncatedSVD(n_components=10, n_iter=10, random_state = 42) #create a dictionary (k-v pair of each word and value)\n",
    "tsvd.fit(reg_vec)\n",
    "tsvd_mat = tsvd.transform(reg_vec)"
   ]
  },
  {
   "cell_type": "code",
   "execution_count": 61,
   "id": "5de1f7c4",
   "metadata": {},
   "outputs": [],
   "source": [
    "tsvd_df = pd.DataFrame(tsvd_mat)\n",
    "tsvd_v = tsvd_df.values\n",
    "\n",
    "min_max_scaler = preprocessing.MinMaxScaler(feature_range = (0,1))\n",
    "tsvd_scale = min_max_scaler.fit_transform(tsvd_v)\n",
    "\n",
    "tsvd_s_df = pd.DataFrame(tsvd_scale)\n",
    "tsvd_s_df['target'] = df['label']\n",
    "tsvd_s_df['target_encoded'] = df['encoded_label']"
   ]
  },
  {
   "cell_type": "code",
   "execution_count": 62,
   "id": "849af64a",
   "metadata": {
    "collapsed": true
   },
   "outputs": [
    {
     "ename": "AxisError",
     "evalue": "axis -1 is out of bounds for array of dimension 0",
     "output_type": "error",
     "traceback": [
      "\u001b[1;31m---------------------------------------------------------------------------\u001b[0m",
      "\u001b[1;31mAxisError\u001b[0m                                 Traceback (most recent call last)",
      "\u001b[1;32m~\\AppData\\Local\\Temp/ipykernel_9592/529336296.py\u001b[0m in \u001b[0;36m<module>\u001b[1;34m\u001b[0m\n\u001b[0;32m      3\u001b[0m \u001b[1;33m\u001b[0m\u001b[0m\n\u001b[0;32m      4\u001b[0m \u001b[1;33m\u001b[0m\u001b[0m\n\u001b[1;32m----> 5\u001b[1;33m \u001b[0my\u001b[0m \u001b[1;33m=\u001b[0m \u001b[0mnp\u001b[0m\u001b[1;33m.\u001b[0m\u001b[0msort\u001b[0m\u001b[1;33m(\u001b[0m\u001b[0mreg_vec\u001b[0m\u001b[1;33m)\u001b[0m\u001b[1;33m\u001b[0m\u001b[1;33m\u001b[0m\u001b[0m\n\u001b[0m\u001b[0;32m      6\u001b[0m \u001b[1;33m\u001b[0m\u001b[0m\n\u001b[0;32m      7\u001b[0m \u001b[0mplt\u001b[0m\u001b[1;33m.\u001b[0m\u001b[0mtitle\u001b[0m\u001b[1;33m(\u001b[0m\u001b[1;34m\"Line graph\"\u001b[0m\u001b[1;33m)\u001b[0m\u001b[1;33m\u001b[0m\u001b[1;33m\u001b[0m\u001b[0m\n",
      "\u001b[1;32m<__array_function__ internals>\u001b[0m in \u001b[0;36msort\u001b[1;34m(*args, **kwargs)\u001b[0m\n",
      "\u001b[1;32m~\\anaconda3\\envs\\playground_st\\lib\\site-packages\\numpy\\core\\fromnumeric.py\u001b[0m in \u001b[0;36msort\u001b[1;34m(a, axis, kind, order)\u001b[0m\n\u001b[0;32m    996\u001b[0m     \u001b[1;32melse\u001b[0m\u001b[1;33m:\u001b[0m\u001b[1;33m\u001b[0m\u001b[1;33m\u001b[0m\u001b[0m\n\u001b[0;32m    997\u001b[0m         \u001b[0ma\u001b[0m \u001b[1;33m=\u001b[0m \u001b[0masanyarray\u001b[0m\u001b[1;33m(\u001b[0m\u001b[0ma\u001b[0m\u001b[1;33m)\u001b[0m\u001b[1;33m.\u001b[0m\u001b[0mcopy\u001b[0m\u001b[1;33m(\u001b[0m\u001b[0morder\u001b[0m\u001b[1;33m=\u001b[0m\u001b[1;34m\"K\"\u001b[0m\u001b[1;33m)\u001b[0m\u001b[1;33m\u001b[0m\u001b[1;33m\u001b[0m\u001b[0m\n\u001b[1;32m--> 998\u001b[1;33m     \u001b[0ma\u001b[0m\u001b[1;33m.\u001b[0m\u001b[0msort\u001b[0m\u001b[1;33m(\u001b[0m\u001b[0maxis\u001b[0m\u001b[1;33m=\u001b[0m\u001b[0maxis\u001b[0m\u001b[1;33m,\u001b[0m \u001b[0mkind\u001b[0m\u001b[1;33m=\u001b[0m\u001b[0mkind\u001b[0m\u001b[1;33m,\u001b[0m \u001b[0morder\u001b[0m\u001b[1;33m=\u001b[0m\u001b[0morder\u001b[0m\u001b[1;33m)\u001b[0m\u001b[1;33m\u001b[0m\u001b[1;33m\u001b[0m\u001b[0m\n\u001b[0m\u001b[0;32m    999\u001b[0m     \u001b[1;32mreturn\u001b[0m \u001b[0ma\u001b[0m\u001b[1;33m\u001b[0m\u001b[1;33m\u001b[0m\u001b[0m\n\u001b[0;32m   1000\u001b[0m \u001b[1;33m\u001b[0m\u001b[0m\n",
      "\u001b[1;31mAxisError\u001b[0m: axis -1 is out of bounds for array of dimension 0"
     ]
    }
   ],
   "source": [
    "\n",
    "# plt.rcParams[\"figure.figsize\"] = [7.50, 3.50]\n",
    "# plt.rcParams[\"figure.autolayout\"] = True\n",
    "\n",
    "\n",
    "# y = np.sort(reg_vec)\n",
    "\n",
    "# plt.title(\"Line graph\")\n",
    "# plt.scatter(reg_vec, y, color=\"red\")\n",
    "\n",
    "# plt.show()"
   ]
  },
  {
   "cell_type": "code",
   "execution_count": null,
   "id": "a4553526",
   "metadata": {},
   "outputs": [],
   "source": []
  },
  {
   "cell_type": "code",
   "execution_count": 63,
   "id": "517c5cac",
   "metadata": {},
   "outputs": [
    {
     "data": {
      "text/html": [
       "<div>\n",
       "<style scoped>\n",
       "    .dataframe tbody tr th:only-of-type {\n",
       "        vertical-align: middle;\n",
       "    }\n",
       "\n",
       "    .dataframe tbody tr th {\n",
       "        vertical-align: top;\n",
       "    }\n",
       "\n",
       "    .dataframe thead th {\n",
       "        text-align: right;\n",
       "    }\n",
       "</style>\n",
       "<table border=\"1\" class=\"dataframe\">\n",
       "  <thead>\n",
       "    <tr style=\"text-align: right;\">\n",
       "      <th></th>\n",
       "      <th>id</th>\n",
       "      <th>sentiment</th>\n",
       "      <th>tokenized_words</th>\n",
       "      <th>label</th>\n",
       "      <th>encoded_label</th>\n",
       "    </tr>\n",
       "  </thead>\n",
       "  <tbody>\n",
       "    <tr>\n",
       "      <th>0</th>\n",
       "      <td>1467810369</td>\n",
       "      <td>0</td>\n",
       "      <td>awww bummer david carr third day it d</td>\n",
       "      <td>Noncyberbullying</td>\n",
       "      <td>0</td>\n",
       "    </tr>\n",
       "    <tr>\n",
       "      <th>1</th>\n",
       "      <td>1467810672</td>\n",
       "      <td>0</td>\n",
       "      <td>upset update facebook texting might cry result...</td>\n",
       "      <td>Noncyberbullying</td>\n",
       "      <td>0</td>\n",
       "    </tr>\n",
       "    <tr>\n",
       "      <th>2</th>\n",
       "      <td>1467810917</td>\n",
       "      <td>0</td>\n",
       "      <td>dive many time ball manage save 50 rest bound</td>\n",
       "      <td>Noncyberbullying</td>\n",
       "      <td>0</td>\n",
       "    </tr>\n",
       "    <tr>\n",
       "      <th>3</th>\n",
       "      <td>1467811184</td>\n",
       "      <td>0</td>\n",
       "      <td>whole body feel itchy like fire</td>\n",
       "      <td>Noncyberbullying</td>\n",
       "      <td>0</td>\n",
       "    </tr>\n",
       "  </tbody>\n",
       "</table>\n",
       "</div>"
      ],
      "text/plain": [
       "           id  sentiment                                    tokenized_words  \\\n",
       "0  1467810369          0              awww bummer david carr third day it d   \n",
       "1  1467810672          0  upset update facebook texting might cry result...   \n",
       "2  1467810917          0      dive many time ball manage save 50 rest bound   \n",
       "3  1467811184          0                    whole body feel itchy like fire   \n",
       "\n",
       "              label  encoded_label  \n",
       "0  Noncyberbullying              0  \n",
       "1  Noncyberbullying              0  \n",
       "2  Noncyberbullying              0  \n",
       "3  Noncyberbullying              0  "
      ]
     },
     "execution_count": 63,
     "metadata": {},
     "output_type": "execute_result"
    }
   ],
   "source": [
    "#Labels\n",
    "df.head(4)"
   ]
  },
  {
   "cell_type": "code",
   "execution_count": 64,
   "id": "a93519ad",
   "metadata": {},
   "outputs": [
    {
     "data": {
      "text/plain": [
       "0    0\n",
       "1    0\n",
       "2    0\n",
       "Name: encoded_label, dtype: int64"
      ]
     },
     "execution_count": 64,
     "metadata": {},
     "output_type": "execute_result"
    }
   ],
   "source": [
    "label = df['encoded_label']\n",
    "label.head(3)"
   ]
  },
  {
   "cell_type": "code",
   "execution_count": 65,
   "id": "cb2483a5",
   "metadata": {},
   "outputs": [],
   "source": [
    "# features = tfidf.fit_transform(df2.Consumer_complaint).toarray()\n",
    "# labels = df2.category_id\n",
    "\n",
    "X = df['tokenized_words'] # Collection of documents\n",
    "y = df['label'] # Target or the labels we \n",
    "\n",
    "\n",
    "X = tsvd_s_df.drop(['target', 'target_encoded'], axis = 1)\n",
    "y = tsvd_s_df.target_encoded\n",
    "\n",
    "#x = df['tokenized_words']"
   ]
  },
  {
   "cell_type": "code",
   "execution_count": 66,
   "id": "a4c7f183",
   "metadata": {},
   "outputs": [],
   "source": [
    "X_train, X_test, y_train, y_test = train_test_split(X, y, test_size=0.30, random_state = 42)"
   ]
  },
  {
   "cell_type": "code",
   "execution_count": 67,
   "id": "a1bf1a83",
   "metadata": {},
   "outputs": [
    {
     "data": {
      "text/plain": [
       "(639398, 10)"
      ]
     },
     "execution_count": 67,
     "metadata": {},
     "output_type": "execute_result"
    }
   ],
   "source": [
    "X_train.shape"
   ]
  },
  {
   "cell_type": "code",
   "execution_count": 68,
   "id": "c6b35ae7",
   "metadata": {},
   "outputs": [
    {
     "name": "stdout",
     "output_type": "stream",
     "text": [
      "(913427,)\n",
      "(639398, 10)\n",
      "(274029, 10)\n"
     ]
    }
   ],
   "source": [
    "#checking train-test split\n",
    "\n",
    "print(df['tokenized_words'].shape)\n",
    "print(X_train.shape)\n",
    "print(X_test.shape)"
   ]
  },
  {
   "cell_type": "code",
   "execution_count": null,
   "id": "91c3a8e1",
   "metadata": {},
   "outputs": [],
   "source": []
  },
  {
   "cell_type": "markdown",
   "id": "140d4eed",
   "metadata": {},
   "source": [
    "# Modelling"
   ]
  },
  {
   "cell_type": "raw",
   "id": "b1f483f4",
   "metadata": {},
   "source": [
    "We will keep all the using models in a list and loop through the list for each model to get a mean accuracy and standard deviation so that we can calculate and compare the performance for each of these models. Then we can decide with which model we can move further."
   ]
  },
  {
   "cell_type": "code",
   "execution_count": 69,
   "id": "0c50e37f",
   "metadata": {},
   "outputs": [],
   "source": [
    "models = [\n",
    "    RandomForestClassifier(n_estimators=100, max_depth=5, random_state=0),\n",
    "    LinearSVC(),\n",
    "    MultinomialNB()\n",
    "    #LogisticRegression(random_state=0)\n",
    "]"
   ]
  },
  {
   "cell_type": "code",
   "execution_count": 70,
   "id": "aa66b4e6",
   "metadata": {},
   "outputs": [],
   "source": [
    "# 5 Fold Cross-validation\n",
    "CV = 5\n",
    "cv_df = pd.DataFrame(index=range(CV * len(models)))"
   ]
  },
  {
   "cell_type": "code",
   "execution_count": 71,
   "id": "77a72e53",
   "metadata": {},
   "outputs": [],
   "source": [
    "entries = []\n",
    "for model in models:\n",
    "  model_name = model.__class__.__name__\n",
    "  accuracies = cross_val_score(model, reg_vec, label, scoring='accuracy', cv=CV)\n",
    "  for fold_idx, accuracy in enumerate(accuracies):\n",
    "    entries.append((model_name, fold_idx, accuracy))\n",
    "cv_df = pd.DataFrame(entries, columns=['model_name', 'fold_idx', 'accuracy'])"
   ]
  },
  {
   "cell_type": "code",
   "execution_count": 72,
   "id": "f5b59840",
   "metadata": {},
   "outputs": [
    {
     "data": {
      "text/html": [
       "<div>\n",
       "<style scoped>\n",
       "    .dataframe tbody tr th:only-of-type {\n",
       "        vertical-align: middle;\n",
       "    }\n",
       "\n",
       "    .dataframe tbody tr th {\n",
       "        vertical-align: top;\n",
       "    }\n",
       "\n",
       "    .dataframe thead th {\n",
       "        text-align: right;\n",
       "    }\n",
       "</style>\n",
       "<table border=\"1\" class=\"dataframe\">\n",
       "  <thead>\n",
       "    <tr style=\"text-align: right;\">\n",
       "      <th></th>\n",
       "      <th>Mean Accuracy</th>\n",
       "      <th>Standard deviation</th>\n",
       "    </tr>\n",
       "    <tr>\n",
       "      <th>model_name</th>\n",
       "      <th></th>\n",
       "      <th></th>\n",
       "    </tr>\n",
       "  </thead>\n",
       "  <tbody>\n",
       "    <tr>\n",
       "      <th>LinearSVC</th>\n",
       "      <td>0.989141</td>\n",
       "      <td>0.000579</td>\n",
       "    </tr>\n",
       "    <tr>\n",
       "      <th>MultinomialNB</th>\n",
       "      <td>0.860825</td>\n",
       "      <td>0.001543</td>\n",
       "    </tr>\n",
       "    <tr>\n",
       "      <th>RandomForestClassifier</th>\n",
       "      <td>0.823464</td>\n",
       "      <td>0.000003</td>\n",
       "    </tr>\n",
       "  </tbody>\n",
       "</table>\n",
       "</div>"
      ],
      "text/plain": [
       "                        Mean Accuracy  Standard deviation\n",
       "model_name                                               \n",
       "LinearSVC                    0.989141            0.000579\n",
       "MultinomialNB                0.860825            0.001543\n",
       "RandomForestClassifier       0.823464            0.000003"
      ]
     },
     "execution_count": 72,
     "metadata": {},
     "output_type": "execute_result"
    }
   ],
   "source": [
    "#Comparing Accuracy of each model\n",
    "\n",
    "mean_accuracy = cv_df.groupby('model_name').accuracy.mean()\n",
    "std_accuracy = cv_df.groupby('model_name').accuracy.std()\n",
    "\n",
    "acc = pd.concat([mean_accuracy, std_accuracy], axis= 1, \n",
    "          ignore_index=True)\n",
    "acc.columns = ['Mean Accuracy', 'Standard deviation']\n",
    "acc"
   ]
  },
  {
   "cell_type": "code",
   "execution_count": 73,
   "id": "510569ab",
   "metadata": {},
   "outputs": [
    {
     "data": {
      "image/png": "[encoded data removed]",
      "text/plain": [
       "<Figure size 576x360 with 1 Axes>"
      ]
     },
     "metadata": {
      "needs_background": "light"
     },
     "output_type": "display_data"
    }
   ],
   "source": [
    "plt.figure(figsize=(8,5))\n",
    "sns.boxplot(x='model_name', y='accuracy', \n",
    "            data=cv_df, \n",
    "            color='lightblue', \n",
    "            showmeans=True)\n",
    "plt.title(\"MEAN ACCURACY (cv = 5)n\", size=14);\n"
   ]
  },
  {
   "cell_type": "raw",
   "id": "6a51213b",
   "metadata": {},
   "source": [
    "SVC performs better than others, so we will use LinearSVC to train model multi-class text classification tasks."
   ]
  },
  {
   "cell_type": "raw",
   "id": "f459a210",
   "metadata": {},
   "source": [
    "Now, let us train our model using ‘Linear Support Vector Machine’, so that we can evaluate and check it performance on unseen data."
   ]
  },
  {
   "cell_type": "code",
   "execution_count": 74,
   "id": "52c07d77",
   "metadata": {},
   "outputs": [],
   "source": [
    "X_train, X_test, y_train, y_test,indices_train,indices_test = train_test_split(reg_vec, label, df.index, test_size=0.3, random_state=1)"
   ]
  },
  {
   "cell_type": "code",
   "execution_count": 75,
   "id": "41657348",
   "metadata": {},
   "outputs": [
    {
     "data": {
      "text/plain": [
       "(639398, 212535)"
      ]
     },
     "execution_count": 75,
     "metadata": {},
     "output_type": "execute_result"
    }
   ],
   "source": [
    "X_train.shape"
   ]
  },
  {
   "cell_type": "code",
   "execution_count": 76,
   "id": "6de78743",
   "metadata": {},
   "outputs": [],
   "source": [
    "#Train and predict the model on SVC\n",
    "\n",
    "model = LinearSVC()\n",
    "model.fit(X_train, y_train)\n",
    "y_pred = model.predict(X_test)"
   ]
  },
  {
   "cell_type": "code",
   "execution_count": 77,
   "id": "f43962b0",
   "metadata": {},
   "outputs": [
    {
     "name": "stdout",
     "output_type": "stream",
     "text": [
      "ttttCLASSIFICATIION METRICSn\n",
      "                  precision    recall  f1-score   support\n",
      "\n",
      "Noncyberbullying       0.99      1.00      0.99    225670\n",
      "        politics       0.99      0.73      0.84       273\n",
      "          racial       0.97      0.94      0.95      5750\n",
      "          sexual       0.98      0.94      0.96      1323\n",
      "      appearance       0.98      0.93      0.95      3850\n",
      "         generic       0.99      0.96      0.97     12420\n",
      "    intelligence       1.00      0.94      0.97     24743\n",
      "\n",
      "        accuracy                           0.99    274029\n",
      "       macro avg       0.99      0.92      0.95    274029\n",
      "    weighted avg       0.99      0.99      0.99    274029\n",
      "\n"
     ]
    }
   ],
   "source": [
    "# Classification report\n",
    "\n",
    "print('ttttCLASSIFICATIION METRICSn')\n",
    "print(metrics.classification_report(y_test, y_pred, target_names= df['label'].unique()))"
   ]
  },
  {
   "cell_type": "code",
   "execution_count": 78,
   "id": "d726878f",
   "metadata": {},
   "outputs": [
    {
     "data": {
      "image/png": "[encoded data removed]",
      "text/plain": [
       "<Figure size 576x576 with 2 Axes>"
      ]
     },
     "metadata": {
      "needs_background": "light"
     },
     "output_type": "display_data"
    }
   ],
   "source": [
    "conf_mat = confusion_matrix(y_test, y_pred)\n",
    "fig, ax = plt.subplots(figsize=(8,8))\n",
    "sns.heatmap(conf_mat, annot=True, cmap=\"Blues\", fmt='d')\n",
    "plt.ylabel('Actual')\n",
    "plt.xlabel('Predicted')\n",
    "plt.title(\"CONFUSION MATRIX - LinearSVCn\", size=16);"
   ]
  },
  {
   "cell_type": "code",
   "execution_count": null,
   "id": "b4ef3c03",
   "metadata": {},
   "outputs": [],
   "source": [
    "#F1 Score\n",
    "# Precision-Recall\n",
    "# Confusion Matrix\n",
    "# Roc Curve\n"
   ]
  },
  {
   "cell_type": "code",
   "execution_count": 83,
   "id": "dd513a8a",
   "metadata": {},
   "outputs": [
    {
     "data": {
      "text/plain": [
       "array([0.99426388, 0.8372093 , 0.95410415, 0.95783366, 0.95375183,\n",
       "       0.97172783, 0.96747679])"
      ]
     },
     "execution_count": 83,
     "metadata": {},
     "output_type": "execute_result"
    }
   ],
   "source": [
    "#F1 Score\n",
    "\n",
    "from sklearn.metrics import f1_score\n",
    "f1_score(y_test, y_pred,  average=None)"
   ]
  },
  {
   "cell_type": "code",
   "execution_count": 95,
   "id": "adc58502",
   "metadata": {},
   "outputs": [
    {
     "data": {
      "text/plain": [
       "0.9892237682872981"
      ]
     },
     "execution_count": 95,
     "metadata": {},
     "output_type": "execute_result"
    }
   ],
   "source": [
    "#Accuracy score\n",
    "\n",
    "from sklearn.metrics import accuracy_score\n",
    "\n",
    "ac = accuracy_score(y_test, y_pred)\n",
    "ac"
   ]
  },
  {
   "cell_type": "code",
   "execution_count": 96,
   "id": "98f191c3",
   "metadata": {},
   "outputs": [],
   "source": [
    "#roc"
   ]
  },
  {
   "cell_type": "code",
   "execution_count": 97,
   "id": "883c7b3c",
   "metadata": {},
   "outputs": [],
   "source": [
    "#precision recall curve"
   ]
  },
  {
   "cell_type": "code",
   "execution_count": null,
   "id": "d9ba93ae",
   "metadata": {},
   "outputs": [],
   "source": []
  }
 ],
 "metadata": {
  "kernelspec": {
   "display_name": "Python 3 (ipykernel)",
   "language": "python",
   "name": "python3"
  },
  "language_info": {
   "codemirror_mode": {
    "name": "ipython",
    "version": 3
   },
   "file_extension": ".py",
   "mimetype": "text/x-python",
   "name": "python",
   "nbconvert_exporter": "python",
   "pygments_lexer": "ipython3",
   "version": "3.9.7"
  }
 },
 "nbformat": 4,
 "nbformat_minor": 5
}
